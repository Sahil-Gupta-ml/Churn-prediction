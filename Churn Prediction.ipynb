{
 "cells": [
  {
   "cell_type": "markdown",
   "metadata": {},
   "source": [
    "# Churn Prediction "
   ]
  },
  {
   "cell_type": "markdown",
   "metadata": {},
   "source": [
    "## Customer Churn Prediction:\n",
    "A Bank wants to take care of customer retention for its product: savings accounts. The bank wants you to identify customers likely to churn balances below the minimum balance. You have the customers information such as age, gender, demographics along with their transactions with the bank.\n",
    "### Problem Statement : \n",
    "To predict the propensity to churn for each customer.\n",
    "### Data Dictionary\n",
    "There are multiple variables in the dataset which can be cleanly divided into 3 categories:\n",
    "### Demographic information about customers\n",
    "-\tcustomer_id - Customer id \n",
    "-\tvintage - Vintage of the customer with the bank in a number of days \n",
    "-\tage - Age of customer \n",
    "-\tgender - Gender of customer \n",
    "-\tdependents - Number of dependents \n",
    "-\toccupation - Occupation of the customer \n",
    "-\tcity - City of the customer (anonymized)\n",
    "\n",
    "\n",
    "### Customer Bank Relationship\n",
    "\n",
    "-\tcustomer_nw_category - Net worth of customer (3: Low 2: Medium 1: High) \n",
    "-\tbranch_code - Branch Code for a customer account \n",
    "-\tdays_since_last_transaction - No of Days Since Last Credit in Last 1 year\n",
    "\n",
    "\n",
    "### Transactional Information\n",
    "\n",
    "-\tcurrent_balance - Balance as of today \n",
    "-\tprevious_month_end_balance - End of Month Balance of previous month \n",
    "-\taverage_monthly_balance_prevQ - Average monthly balances (AMB) in Previous Quarter \n",
    "-\taverage_monthly_balance_prevQ2 - Average monthly balances (AMB) in previous to the previous quarter \n",
    "-\tcurrent_month_credit - Total Credit Amount current month \n",
    "-\tprevious_month_credit - Total Credit Amount previous month \n",
    "-\tcurrent_month_debit - Total Debit Amount current month \n",
    "-\tprevious_month_debit - Total Debit Amount previous month \n",
    "-\tcurrent_month_balance - Average Balance of current month \n",
    "-\tprevious_month_balance - Average Balance of previous month \n",
    "-\tchurn - Average balance of customer falls below minimum balance in the next quarter (1/0) \n"
   ]
  },
  {
   "cell_type": "code",
   "execution_count": 2,
   "metadata": {},
   "outputs": [],
   "source": [
    "import numpy as np\n",
    "import pandas as pd \n",
    "import matplotlib.pyplot as plt\n",
    "import seaborn as sns"
   ]
  },
  {
   "cell_type": "code",
   "execution_count": 5,
   "metadata": {},
   "outputs": [],
   "source": [
    "data = pd.read_csv('churn_prediction.csv')"
   ]
  },
  {
   "cell_type": "code",
   "execution_count": 6,
   "metadata": {},
   "outputs": [
    {
     "data": {
      "text/plain": [
       "(28382, 21)"
      ]
     },
     "execution_count": 6,
     "metadata": {},
     "output_type": "execute_result"
    }
   ],
   "source": [
    "data.shape"
   ]
  },
  {
   "cell_type": "code",
   "execution_count": 7,
   "metadata": {},
   "outputs": [
    {
     "data": {
      "text/html": [
       "<div>\n",
       "<style scoped>\n",
       "    .dataframe tbody tr th:only-of-type {\n",
       "        vertical-align: middle;\n",
       "    }\n",
       "\n",
       "    .dataframe tbody tr th {\n",
       "        vertical-align: top;\n",
       "    }\n",
       "\n",
       "    .dataframe thead th {\n",
       "        text-align: right;\n",
       "    }\n",
       "</style>\n",
       "<table border=\"1\" class=\"dataframe\">\n",
       "  <thead>\n",
       "    <tr style=\"text-align: right;\">\n",
       "      <th></th>\n",
       "      <th>customer_id</th>\n",
       "      <th>vintage</th>\n",
       "      <th>age</th>\n",
       "      <th>gender</th>\n",
       "      <th>dependents</th>\n",
       "      <th>occupation</th>\n",
       "      <th>city</th>\n",
       "      <th>customer_nw_category</th>\n",
       "      <th>branch_code</th>\n",
       "      <th>days_since_last_transaction</th>\n",
       "      <th>...</th>\n",
       "      <th>previous_month_end_balance</th>\n",
       "      <th>average_monthly_balance_prevQ</th>\n",
       "      <th>average_monthly_balance_prevQ2</th>\n",
       "      <th>current_month_credit</th>\n",
       "      <th>previous_month_credit</th>\n",
       "      <th>current_month_debit</th>\n",
       "      <th>previous_month_debit</th>\n",
       "      <th>current_month_balance</th>\n",
       "      <th>previous_month_balance</th>\n",
       "      <th>churn</th>\n",
       "    </tr>\n",
       "  </thead>\n",
       "  <tbody>\n",
       "    <tr>\n",
       "      <th>0</th>\n",
       "      <td>1</td>\n",
       "      <td>3135</td>\n",
       "      <td>66</td>\n",
       "      <td>Male</td>\n",
       "      <td>0.0</td>\n",
       "      <td>self_employed</td>\n",
       "      <td>187.0</td>\n",
       "      <td>2</td>\n",
       "      <td>755</td>\n",
       "      <td>224.0</td>\n",
       "      <td>...</td>\n",
       "      <td>1458.71</td>\n",
       "      <td>1458.71</td>\n",
       "      <td>1449.07</td>\n",
       "      <td>0.20</td>\n",
       "      <td>0.20</td>\n",
       "      <td>0.20</td>\n",
       "      <td>0.20</td>\n",
       "      <td>1458.71</td>\n",
       "      <td>1458.71</td>\n",
       "      <td>0</td>\n",
       "    </tr>\n",
       "    <tr>\n",
       "      <th>1</th>\n",
       "      <td>2</td>\n",
       "      <td>310</td>\n",
       "      <td>35</td>\n",
       "      <td>Male</td>\n",
       "      <td>0.0</td>\n",
       "      <td>self_employed</td>\n",
       "      <td>NaN</td>\n",
       "      <td>2</td>\n",
       "      <td>3214</td>\n",
       "      <td>60.0</td>\n",
       "      <td>...</td>\n",
       "      <td>8704.66</td>\n",
       "      <td>7799.26</td>\n",
       "      <td>12419.41</td>\n",
       "      <td>0.56</td>\n",
       "      <td>0.56</td>\n",
       "      <td>5486.27</td>\n",
       "      <td>100.56</td>\n",
       "      <td>6496.78</td>\n",
       "      <td>8787.61</td>\n",
       "      <td>0</td>\n",
       "    </tr>\n",
       "    <tr>\n",
       "      <th>2</th>\n",
       "      <td>4</td>\n",
       "      <td>2356</td>\n",
       "      <td>31</td>\n",
       "      <td>Male</td>\n",
       "      <td>0.0</td>\n",
       "      <td>salaried</td>\n",
       "      <td>146.0</td>\n",
       "      <td>2</td>\n",
       "      <td>41</td>\n",
       "      <td>NaN</td>\n",
       "      <td>...</td>\n",
       "      <td>5815.29</td>\n",
       "      <td>4910.17</td>\n",
       "      <td>2815.94</td>\n",
       "      <td>0.61</td>\n",
       "      <td>0.61</td>\n",
       "      <td>6046.73</td>\n",
       "      <td>259.23</td>\n",
       "      <td>5006.28</td>\n",
       "      <td>5070.14</td>\n",
       "      <td>0</td>\n",
       "    </tr>\n",
       "    <tr>\n",
       "      <th>3</th>\n",
       "      <td>5</td>\n",
       "      <td>478</td>\n",
       "      <td>90</td>\n",
       "      <td>NaN</td>\n",
       "      <td>NaN</td>\n",
       "      <td>self_employed</td>\n",
       "      <td>1020.0</td>\n",
       "      <td>2</td>\n",
       "      <td>582</td>\n",
       "      <td>147.0</td>\n",
       "      <td>...</td>\n",
       "      <td>2291.91</td>\n",
       "      <td>2084.54</td>\n",
       "      <td>1006.54</td>\n",
       "      <td>0.47</td>\n",
       "      <td>0.47</td>\n",
       "      <td>0.47</td>\n",
       "      <td>2143.33</td>\n",
       "      <td>2291.91</td>\n",
       "      <td>1669.79</td>\n",
       "      <td>1</td>\n",
       "    </tr>\n",
       "    <tr>\n",
       "      <th>4</th>\n",
       "      <td>6</td>\n",
       "      <td>2531</td>\n",
       "      <td>42</td>\n",
       "      <td>Male</td>\n",
       "      <td>2.0</td>\n",
       "      <td>self_employed</td>\n",
       "      <td>1494.0</td>\n",
       "      <td>3</td>\n",
       "      <td>388</td>\n",
       "      <td>58.0</td>\n",
       "      <td>...</td>\n",
       "      <td>1401.72</td>\n",
       "      <td>1643.31</td>\n",
       "      <td>1871.12</td>\n",
       "      <td>0.33</td>\n",
       "      <td>714.61</td>\n",
       "      <td>588.62</td>\n",
       "      <td>1538.06</td>\n",
       "      <td>1157.15</td>\n",
       "      <td>1677.16</td>\n",
       "      <td>1</td>\n",
       "    </tr>\n",
       "  </tbody>\n",
       "</table>\n",
       "<p>5 rows × 21 columns</p>\n",
       "</div>"
      ],
      "text/plain": [
       "   customer_id  vintage  age gender  dependents     occupation    city  \\\n",
       "0            1     3135   66   Male         0.0  self_employed   187.0   \n",
       "1            2      310   35   Male         0.0  self_employed     NaN   \n",
       "2            4     2356   31   Male         0.0       salaried   146.0   \n",
       "3            5      478   90    NaN         NaN  self_employed  1020.0   \n",
       "4            6     2531   42   Male         2.0  self_employed  1494.0   \n",
       "\n",
       "   customer_nw_category  branch_code  days_since_last_transaction  ...    \\\n",
       "0                     2          755                        224.0  ...     \n",
       "1                     2         3214                         60.0  ...     \n",
       "2                     2           41                          NaN  ...     \n",
       "3                     2          582                        147.0  ...     \n",
       "4                     3          388                         58.0  ...     \n",
       "\n",
       "   previous_month_end_balance  average_monthly_balance_prevQ  \\\n",
       "0                     1458.71                        1458.71   \n",
       "1                     8704.66                        7799.26   \n",
       "2                     5815.29                        4910.17   \n",
       "3                     2291.91                        2084.54   \n",
       "4                     1401.72                        1643.31   \n",
       "\n",
       "   average_monthly_balance_prevQ2  current_month_credit  \\\n",
       "0                         1449.07                  0.20   \n",
       "1                        12419.41                  0.56   \n",
       "2                         2815.94                  0.61   \n",
       "3                         1006.54                  0.47   \n",
       "4                         1871.12                  0.33   \n",
       "\n",
       "   previous_month_credit  current_month_debit  previous_month_debit  \\\n",
       "0                   0.20                 0.20                  0.20   \n",
       "1                   0.56              5486.27                100.56   \n",
       "2                   0.61              6046.73                259.23   \n",
       "3                   0.47                 0.47               2143.33   \n",
       "4                 714.61               588.62               1538.06   \n",
       "\n",
       "   current_month_balance  previous_month_balance  churn  \n",
       "0                1458.71                 1458.71      0  \n",
       "1                6496.78                 8787.61      0  \n",
       "2                5006.28                 5070.14      0  \n",
       "3                2291.91                 1669.79      1  \n",
       "4                1157.15                 1677.16      1  \n",
       "\n",
       "[5 rows x 21 columns]"
      ]
     },
     "execution_count": 7,
     "metadata": {},
     "output_type": "execute_result"
    }
   ],
   "source": [
    "data.head()"
   ]
  },
  {
   "cell_type": "markdown",
   "metadata": {},
   "source": [
    "# Data Exploration"
   ]
  },
  {
   "cell_type": "code",
   "execution_count": 8,
   "metadata": {},
   "outputs": [
    {
     "data": {
      "text/html": [
       "<div>\n",
       "<style scoped>\n",
       "    .dataframe tbody tr th:only-of-type {\n",
       "        vertical-align: middle;\n",
       "    }\n",
       "\n",
       "    .dataframe tbody tr th {\n",
       "        vertical-align: top;\n",
       "    }\n",
       "\n",
       "    .dataframe thead th {\n",
       "        text-align: right;\n",
       "    }\n",
       "</style>\n",
       "<table border=\"1\" class=\"dataframe\">\n",
       "  <thead>\n",
       "    <tr style=\"text-align: right;\">\n",
       "      <th></th>\n",
       "      <th>customer_id</th>\n",
       "      <th>vintage</th>\n",
       "      <th>age</th>\n",
       "      <th>dependents</th>\n",
       "      <th>city</th>\n",
       "      <th>customer_nw_category</th>\n",
       "      <th>branch_code</th>\n",
       "      <th>days_since_last_transaction</th>\n",
       "      <th>current_balance</th>\n",
       "      <th>previous_month_end_balance</th>\n",
       "      <th>average_monthly_balance_prevQ</th>\n",
       "      <th>average_monthly_balance_prevQ2</th>\n",
       "      <th>current_month_credit</th>\n",
       "      <th>previous_month_credit</th>\n",
       "      <th>current_month_debit</th>\n",
       "      <th>previous_month_debit</th>\n",
       "      <th>current_month_balance</th>\n",
       "      <th>previous_month_balance</th>\n",
       "      <th>churn</th>\n",
       "    </tr>\n",
       "  </thead>\n",
       "  <tbody>\n",
       "    <tr>\n",
       "      <th>count</th>\n",
       "      <td>28382.000000</td>\n",
       "      <td>28382.000000</td>\n",
       "      <td>28382.000000</td>\n",
       "      <td>25919.000000</td>\n",
       "      <td>27579.000000</td>\n",
       "      <td>28382.000000</td>\n",
       "      <td>28382.000000</td>\n",
       "      <td>25159.000000</td>\n",
       "      <td>2.838200e+04</td>\n",
       "      <td>2.838200e+04</td>\n",
       "      <td>2.838200e+04</td>\n",
       "      <td>2.838200e+04</td>\n",
       "      <td>2.838200e+04</td>\n",
       "      <td>2.838200e+04</td>\n",
       "      <td>2.838200e+04</td>\n",
       "      <td>2.838200e+04</td>\n",
       "      <td>2.838200e+04</td>\n",
       "      <td>2.838200e+04</td>\n",
       "      <td>28382.000000</td>\n",
       "    </tr>\n",
       "    <tr>\n",
       "      <th>mean</th>\n",
       "      <td>15143.508667</td>\n",
       "      <td>2364.336446</td>\n",
       "      <td>48.208336</td>\n",
       "      <td>0.347236</td>\n",
       "      <td>796.109576</td>\n",
       "      <td>2.225530</td>\n",
       "      <td>925.975019</td>\n",
       "      <td>69.997814</td>\n",
       "      <td>7.380552e+03</td>\n",
       "      <td>7.495771e+03</td>\n",
       "      <td>7.496780e+03</td>\n",
       "      <td>7.124209e+03</td>\n",
       "      <td>3.433252e+03</td>\n",
       "      <td>3.261694e+03</td>\n",
       "      <td>3.658745e+03</td>\n",
       "      <td>3.339761e+03</td>\n",
       "      <td>7.451133e+03</td>\n",
       "      <td>7.495177e+03</td>\n",
       "      <td>0.185329</td>\n",
       "    </tr>\n",
       "    <tr>\n",
       "      <th>std</th>\n",
       "      <td>8746.454456</td>\n",
       "      <td>1610.124506</td>\n",
       "      <td>17.807163</td>\n",
       "      <td>0.997661</td>\n",
       "      <td>432.872102</td>\n",
       "      <td>0.660443</td>\n",
       "      <td>937.799129</td>\n",
       "      <td>86.341098</td>\n",
       "      <td>4.259871e+04</td>\n",
       "      <td>4.252935e+04</td>\n",
       "      <td>4.172622e+04</td>\n",
       "      <td>4.457581e+04</td>\n",
       "      <td>7.707145e+04</td>\n",
       "      <td>2.968889e+04</td>\n",
       "      <td>5.198542e+04</td>\n",
       "      <td>2.430111e+04</td>\n",
       "      <td>4.203394e+04</td>\n",
       "      <td>4.243198e+04</td>\n",
       "      <td>0.388571</td>\n",
       "    </tr>\n",
       "    <tr>\n",
       "      <th>min</th>\n",
       "      <td>1.000000</td>\n",
       "      <td>180.000000</td>\n",
       "      <td>1.000000</td>\n",
       "      <td>0.000000</td>\n",
       "      <td>0.000000</td>\n",
       "      <td>1.000000</td>\n",
       "      <td>1.000000</td>\n",
       "      <td>0.000000</td>\n",
       "      <td>-5.503960e+03</td>\n",
       "      <td>-3.149570e+03</td>\n",
       "      <td>1.428690e+03</td>\n",
       "      <td>-1.650610e+04</td>\n",
       "      <td>1.000000e-02</td>\n",
       "      <td>1.000000e-02</td>\n",
       "      <td>1.000000e-02</td>\n",
       "      <td>1.000000e-02</td>\n",
       "      <td>-3.374180e+03</td>\n",
       "      <td>-5.171920e+03</td>\n",
       "      <td>0.000000</td>\n",
       "    </tr>\n",
       "    <tr>\n",
       "      <th>25%</th>\n",
       "      <td>7557.250000</td>\n",
       "      <td>1121.000000</td>\n",
       "      <td>36.000000</td>\n",
       "      <td>0.000000</td>\n",
       "      <td>409.000000</td>\n",
       "      <td>2.000000</td>\n",
       "      <td>176.000000</td>\n",
       "      <td>11.000000</td>\n",
       "      <td>1.784470e+03</td>\n",
       "      <td>1.906000e+03</td>\n",
       "      <td>2.180945e+03</td>\n",
       "      <td>1.832507e+03</td>\n",
       "      <td>3.100000e-01</td>\n",
       "      <td>3.300000e-01</td>\n",
       "      <td>4.100000e-01</td>\n",
       "      <td>4.100000e-01</td>\n",
       "      <td>1.996765e+03</td>\n",
       "      <td>2.074408e+03</td>\n",
       "      <td>0.000000</td>\n",
       "    </tr>\n",
       "    <tr>\n",
       "      <th>50%</th>\n",
       "      <td>15150.500000</td>\n",
       "      <td>2018.000000</td>\n",
       "      <td>46.000000</td>\n",
       "      <td>0.000000</td>\n",
       "      <td>834.000000</td>\n",
       "      <td>2.000000</td>\n",
       "      <td>572.000000</td>\n",
       "      <td>30.000000</td>\n",
       "      <td>3.281255e+03</td>\n",
       "      <td>3.379915e+03</td>\n",
       "      <td>3.542865e+03</td>\n",
       "      <td>3.359600e+03</td>\n",
       "      <td>6.100000e-01</td>\n",
       "      <td>6.300000e-01</td>\n",
       "      <td>9.193000e+01</td>\n",
       "      <td>1.099600e+02</td>\n",
       "      <td>3.447995e+03</td>\n",
       "      <td>3.465235e+03</td>\n",
       "      <td>0.000000</td>\n",
       "    </tr>\n",
       "    <tr>\n",
       "      <th>75%</th>\n",
       "      <td>22706.750000</td>\n",
       "      <td>3176.000000</td>\n",
       "      <td>60.000000</td>\n",
       "      <td>0.000000</td>\n",
       "      <td>1096.000000</td>\n",
       "      <td>3.000000</td>\n",
       "      <td>1440.000000</td>\n",
       "      <td>95.000000</td>\n",
       "      <td>6.635820e+03</td>\n",
       "      <td>6.656535e+03</td>\n",
       "      <td>6.666887e+03</td>\n",
       "      <td>6.517960e+03</td>\n",
       "      <td>7.072725e+02</td>\n",
       "      <td>7.492350e+02</td>\n",
       "      <td>1.360435e+03</td>\n",
       "      <td>1.357553e+03</td>\n",
       "      <td>6.667958e+03</td>\n",
       "      <td>6.654693e+03</td>\n",
       "      <td>0.000000</td>\n",
       "    </tr>\n",
       "    <tr>\n",
       "      <th>max</th>\n",
       "      <td>30301.000000</td>\n",
       "      <td>12899.000000</td>\n",
       "      <td>90.000000</td>\n",
       "      <td>52.000000</td>\n",
       "      <td>1649.000000</td>\n",
       "      <td>3.000000</td>\n",
       "      <td>4782.000000</td>\n",
       "      <td>365.000000</td>\n",
       "      <td>5.905904e+06</td>\n",
       "      <td>5.740439e+06</td>\n",
       "      <td>5.700290e+06</td>\n",
       "      <td>5.010170e+06</td>\n",
       "      <td>1.226985e+07</td>\n",
       "      <td>2.361808e+06</td>\n",
       "      <td>7.637857e+06</td>\n",
       "      <td>1.414168e+06</td>\n",
       "      <td>5.778185e+06</td>\n",
       "      <td>5.720144e+06</td>\n",
       "      <td>1.000000</td>\n",
       "    </tr>\n",
       "  </tbody>\n",
       "</table>\n",
       "</div>"
      ],
      "text/plain": [
       "        customer_id       vintage           age    dependents          city  \\\n",
       "count  28382.000000  28382.000000  28382.000000  25919.000000  27579.000000   \n",
       "mean   15143.508667   2364.336446     48.208336      0.347236    796.109576   \n",
       "std     8746.454456   1610.124506     17.807163      0.997661    432.872102   \n",
       "min        1.000000    180.000000      1.000000      0.000000      0.000000   \n",
       "25%     7557.250000   1121.000000     36.000000      0.000000    409.000000   \n",
       "50%    15150.500000   2018.000000     46.000000      0.000000    834.000000   \n",
       "75%    22706.750000   3176.000000     60.000000      0.000000   1096.000000   \n",
       "max    30301.000000  12899.000000     90.000000     52.000000   1649.000000   \n",
       "\n",
       "       customer_nw_category   branch_code  days_since_last_transaction  \\\n",
       "count          28382.000000  28382.000000                 25159.000000   \n",
       "mean               2.225530    925.975019                    69.997814   \n",
       "std                0.660443    937.799129                    86.341098   \n",
       "min                1.000000      1.000000                     0.000000   \n",
       "25%                2.000000    176.000000                    11.000000   \n",
       "50%                2.000000    572.000000                    30.000000   \n",
       "75%                3.000000   1440.000000                    95.000000   \n",
       "max                3.000000   4782.000000                   365.000000   \n",
       "\n",
       "       current_balance  previous_month_end_balance  \\\n",
       "count     2.838200e+04                2.838200e+04   \n",
       "mean      7.380552e+03                7.495771e+03   \n",
       "std       4.259871e+04                4.252935e+04   \n",
       "min      -5.503960e+03               -3.149570e+03   \n",
       "25%       1.784470e+03                1.906000e+03   \n",
       "50%       3.281255e+03                3.379915e+03   \n",
       "75%       6.635820e+03                6.656535e+03   \n",
       "max       5.905904e+06                5.740439e+06   \n",
       "\n",
       "       average_monthly_balance_prevQ  average_monthly_balance_prevQ2  \\\n",
       "count                   2.838200e+04                    2.838200e+04   \n",
       "mean                    7.496780e+03                    7.124209e+03   \n",
       "std                     4.172622e+04                    4.457581e+04   \n",
       "min                     1.428690e+03                   -1.650610e+04   \n",
       "25%                     2.180945e+03                    1.832507e+03   \n",
       "50%                     3.542865e+03                    3.359600e+03   \n",
       "75%                     6.666887e+03                    6.517960e+03   \n",
       "max                     5.700290e+06                    5.010170e+06   \n",
       "\n",
       "       current_month_credit  previous_month_credit  current_month_debit  \\\n",
       "count          2.838200e+04           2.838200e+04         2.838200e+04   \n",
       "mean           3.433252e+03           3.261694e+03         3.658745e+03   \n",
       "std            7.707145e+04           2.968889e+04         5.198542e+04   \n",
       "min            1.000000e-02           1.000000e-02         1.000000e-02   \n",
       "25%            3.100000e-01           3.300000e-01         4.100000e-01   \n",
       "50%            6.100000e-01           6.300000e-01         9.193000e+01   \n",
       "75%            7.072725e+02           7.492350e+02         1.360435e+03   \n",
       "max            1.226985e+07           2.361808e+06         7.637857e+06   \n",
       "\n",
       "       previous_month_debit  current_month_balance  previous_month_balance  \\\n",
       "count          2.838200e+04           2.838200e+04            2.838200e+04   \n",
       "mean           3.339761e+03           7.451133e+03            7.495177e+03   \n",
       "std            2.430111e+04           4.203394e+04            4.243198e+04   \n",
       "min            1.000000e-02          -3.374180e+03           -5.171920e+03   \n",
       "25%            4.100000e-01           1.996765e+03            2.074408e+03   \n",
       "50%            1.099600e+02           3.447995e+03            3.465235e+03   \n",
       "75%            1.357553e+03           6.667958e+03            6.654693e+03   \n",
       "max            1.414168e+06           5.778185e+06            5.720144e+06   \n",
       "\n",
       "              churn  \n",
       "count  28382.000000  \n",
       "mean       0.185329  \n",
       "std        0.388571  \n",
       "min        0.000000  \n",
       "25%        0.000000  \n",
       "50%        0.000000  \n",
       "75%        0.000000  \n",
       "max        1.000000  "
      ]
     },
     "execution_count": 8,
     "metadata": {},
     "output_type": "execute_result"
    }
   ],
   "source": [
    "data.describe()"
   ]
  },
  {
   "cell_type": "code",
   "execution_count": 9,
   "metadata": {},
   "outputs": [
    {
     "data": {
      "text/html": [
       "<div>\n",
       "<style scoped>\n",
       "    .dataframe tbody tr th:only-of-type {\n",
       "        vertical-align: middle;\n",
       "    }\n",
       "\n",
       "    .dataframe tbody tr th {\n",
       "        vertical-align: top;\n",
       "    }\n",
       "\n",
       "    .dataframe thead th {\n",
       "        text-align: right;\n",
       "    }\n",
       "</style>\n",
       "<table border=\"1\" class=\"dataframe\">\n",
       "  <thead>\n",
       "    <tr style=\"text-align: right;\">\n",
       "      <th></th>\n",
       "      <th>customer_id</th>\n",
       "      <th>vintage</th>\n",
       "      <th>age</th>\n",
       "      <th>gender</th>\n",
       "      <th>dependents</th>\n",
       "      <th>occupation</th>\n",
       "      <th>city</th>\n",
       "      <th>customer_nw_category</th>\n",
       "      <th>branch_code</th>\n",
       "      <th>days_since_last_transaction</th>\n",
       "      <th>...</th>\n",
       "      <th>previous_month_end_balance</th>\n",
       "      <th>average_monthly_balance_prevQ</th>\n",
       "      <th>average_monthly_balance_prevQ2</th>\n",
       "      <th>current_month_credit</th>\n",
       "      <th>previous_month_credit</th>\n",
       "      <th>current_month_debit</th>\n",
       "      <th>previous_month_debit</th>\n",
       "      <th>current_month_balance</th>\n",
       "      <th>previous_month_balance</th>\n",
       "      <th>churn</th>\n",
       "    </tr>\n",
       "  </thead>\n",
       "  <tbody>\n",
       "    <tr>\n",
       "      <th>count</th>\n",
       "      <td>28382.000000</td>\n",
       "      <td>28382.000000</td>\n",
       "      <td>28382.000000</td>\n",
       "      <td>27857</td>\n",
       "      <td>25919.000000</td>\n",
       "      <td>28302</td>\n",
       "      <td>27579.000000</td>\n",
       "      <td>28382.000000</td>\n",
       "      <td>28382.000000</td>\n",
       "      <td>25159.000000</td>\n",
       "      <td>...</td>\n",
       "      <td>2.838200e+04</td>\n",
       "      <td>2.838200e+04</td>\n",
       "      <td>2.838200e+04</td>\n",
       "      <td>2.838200e+04</td>\n",
       "      <td>2.838200e+04</td>\n",
       "      <td>2.838200e+04</td>\n",
       "      <td>2.838200e+04</td>\n",
       "      <td>2.838200e+04</td>\n",
       "      <td>2.838200e+04</td>\n",
       "      <td>28382.000000</td>\n",
       "    </tr>\n",
       "    <tr>\n",
       "      <th>unique</th>\n",
       "      <td>NaN</td>\n",
       "      <td>NaN</td>\n",
       "      <td>NaN</td>\n",
       "      <td>2</td>\n",
       "      <td>NaN</td>\n",
       "      <td>5</td>\n",
       "      <td>NaN</td>\n",
       "      <td>NaN</td>\n",
       "      <td>NaN</td>\n",
       "      <td>NaN</td>\n",
       "      <td>...</td>\n",
       "      <td>NaN</td>\n",
       "      <td>NaN</td>\n",
       "      <td>NaN</td>\n",
       "      <td>NaN</td>\n",
       "      <td>NaN</td>\n",
       "      <td>NaN</td>\n",
       "      <td>NaN</td>\n",
       "      <td>NaN</td>\n",
       "      <td>NaN</td>\n",
       "      <td>NaN</td>\n",
       "    </tr>\n",
       "    <tr>\n",
       "      <th>top</th>\n",
       "      <td>NaN</td>\n",
       "      <td>NaN</td>\n",
       "      <td>NaN</td>\n",
       "      <td>Male</td>\n",
       "      <td>NaN</td>\n",
       "      <td>self_employed</td>\n",
       "      <td>NaN</td>\n",
       "      <td>NaN</td>\n",
       "      <td>NaN</td>\n",
       "      <td>NaN</td>\n",
       "      <td>...</td>\n",
       "      <td>NaN</td>\n",
       "      <td>NaN</td>\n",
       "      <td>NaN</td>\n",
       "      <td>NaN</td>\n",
       "      <td>NaN</td>\n",
       "      <td>NaN</td>\n",
       "      <td>NaN</td>\n",
       "      <td>NaN</td>\n",
       "      <td>NaN</td>\n",
       "      <td>NaN</td>\n",
       "    </tr>\n",
       "    <tr>\n",
       "      <th>freq</th>\n",
       "      <td>NaN</td>\n",
       "      <td>NaN</td>\n",
       "      <td>NaN</td>\n",
       "      <td>16548</td>\n",
       "      <td>NaN</td>\n",
       "      <td>17476</td>\n",
       "      <td>NaN</td>\n",
       "      <td>NaN</td>\n",
       "      <td>NaN</td>\n",
       "      <td>NaN</td>\n",
       "      <td>...</td>\n",
       "      <td>NaN</td>\n",
       "      <td>NaN</td>\n",
       "      <td>NaN</td>\n",
       "      <td>NaN</td>\n",
       "      <td>NaN</td>\n",
       "      <td>NaN</td>\n",
       "      <td>NaN</td>\n",
       "      <td>NaN</td>\n",
       "      <td>NaN</td>\n",
       "      <td>NaN</td>\n",
       "    </tr>\n",
       "    <tr>\n",
       "      <th>mean</th>\n",
       "      <td>15143.508667</td>\n",
       "      <td>2364.336446</td>\n",
       "      <td>48.208336</td>\n",
       "      <td>NaN</td>\n",
       "      <td>0.347236</td>\n",
       "      <td>NaN</td>\n",
       "      <td>796.109576</td>\n",
       "      <td>2.225530</td>\n",
       "      <td>925.975019</td>\n",
       "      <td>69.997814</td>\n",
       "      <td>...</td>\n",
       "      <td>7.495771e+03</td>\n",
       "      <td>7.496780e+03</td>\n",
       "      <td>7.124209e+03</td>\n",
       "      <td>3.433252e+03</td>\n",
       "      <td>3.261694e+03</td>\n",
       "      <td>3.658745e+03</td>\n",
       "      <td>3.339761e+03</td>\n",
       "      <td>7.451133e+03</td>\n",
       "      <td>7.495177e+03</td>\n",
       "      <td>0.185329</td>\n",
       "    </tr>\n",
       "    <tr>\n",
       "      <th>std</th>\n",
       "      <td>8746.454456</td>\n",
       "      <td>1610.124506</td>\n",
       "      <td>17.807163</td>\n",
       "      <td>NaN</td>\n",
       "      <td>0.997661</td>\n",
       "      <td>NaN</td>\n",
       "      <td>432.872102</td>\n",
       "      <td>0.660443</td>\n",
       "      <td>937.799129</td>\n",
       "      <td>86.341098</td>\n",
       "      <td>...</td>\n",
       "      <td>4.252935e+04</td>\n",
       "      <td>4.172622e+04</td>\n",
       "      <td>4.457581e+04</td>\n",
       "      <td>7.707145e+04</td>\n",
       "      <td>2.968889e+04</td>\n",
       "      <td>5.198542e+04</td>\n",
       "      <td>2.430111e+04</td>\n",
       "      <td>4.203394e+04</td>\n",
       "      <td>4.243198e+04</td>\n",
       "      <td>0.388571</td>\n",
       "    </tr>\n",
       "    <tr>\n",
       "      <th>min</th>\n",
       "      <td>1.000000</td>\n",
       "      <td>180.000000</td>\n",
       "      <td>1.000000</td>\n",
       "      <td>NaN</td>\n",
       "      <td>0.000000</td>\n",
       "      <td>NaN</td>\n",
       "      <td>0.000000</td>\n",
       "      <td>1.000000</td>\n",
       "      <td>1.000000</td>\n",
       "      <td>0.000000</td>\n",
       "      <td>...</td>\n",
       "      <td>-3.149570e+03</td>\n",
       "      <td>1.428690e+03</td>\n",
       "      <td>-1.650610e+04</td>\n",
       "      <td>1.000000e-02</td>\n",
       "      <td>1.000000e-02</td>\n",
       "      <td>1.000000e-02</td>\n",
       "      <td>1.000000e-02</td>\n",
       "      <td>-3.374180e+03</td>\n",
       "      <td>-5.171920e+03</td>\n",
       "      <td>0.000000</td>\n",
       "    </tr>\n",
       "    <tr>\n",
       "      <th>25%</th>\n",
       "      <td>7557.250000</td>\n",
       "      <td>1121.000000</td>\n",
       "      <td>36.000000</td>\n",
       "      <td>NaN</td>\n",
       "      <td>0.000000</td>\n",
       "      <td>NaN</td>\n",
       "      <td>409.000000</td>\n",
       "      <td>2.000000</td>\n",
       "      <td>176.000000</td>\n",
       "      <td>11.000000</td>\n",
       "      <td>...</td>\n",
       "      <td>1.906000e+03</td>\n",
       "      <td>2.180945e+03</td>\n",
       "      <td>1.832507e+03</td>\n",
       "      <td>3.100000e-01</td>\n",
       "      <td>3.300000e-01</td>\n",
       "      <td>4.100000e-01</td>\n",
       "      <td>4.100000e-01</td>\n",
       "      <td>1.996765e+03</td>\n",
       "      <td>2.074408e+03</td>\n",
       "      <td>0.000000</td>\n",
       "    </tr>\n",
       "    <tr>\n",
       "      <th>50%</th>\n",
       "      <td>15150.500000</td>\n",
       "      <td>2018.000000</td>\n",
       "      <td>46.000000</td>\n",
       "      <td>NaN</td>\n",
       "      <td>0.000000</td>\n",
       "      <td>NaN</td>\n",
       "      <td>834.000000</td>\n",
       "      <td>2.000000</td>\n",
       "      <td>572.000000</td>\n",
       "      <td>30.000000</td>\n",
       "      <td>...</td>\n",
       "      <td>3.379915e+03</td>\n",
       "      <td>3.542865e+03</td>\n",
       "      <td>3.359600e+03</td>\n",
       "      <td>6.100000e-01</td>\n",
       "      <td>6.300000e-01</td>\n",
       "      <td>9.193000e+01</td>\n",
       "      <td>1.099600e+02</td>\n",
       "      <td>3.447995e+03</td>\n",
       "      <td>3.465235e+03</td>\n",
       "      <td>0.000000</td>\n",
       "    </tr>\n",
       "    <tr>\n",
       "      <th>75%</th>\n",
       "      <td>22706.750000</td>\n",
       "      <td>3176.000000</td>\n",
       "      <td>60.000000</td>\n",
       "      <td>NaN</td>\n",
       "      <td>0.000000</td>\n",
       "      <td>NaN</td>\n",
       "      <td>1096.000000</td>\n",
       "      <td>3.000000</td>\n",
       "      <td>1440.000000</td>\n",
       "      <td>95.000000</td>\n",
       "      <td>...</td>\n",
       "      <td>6.656535e+03</td>\n",
       "      <td>6.666887e+03</td>\n",
       "      <td>6.517960e+03</td>\n",
       "      <td>7.072725e+02</td>\n",
       "      <td>7.492350e+02</td>\n",
       "      <td>1.360435e+03</td>\n",
       "      <td>1.357553e+03</td>\n",
       "      <td>6.667958e+03</td>\n",
       "      <td>6.654693e+03</td>\n",
       "      <td>0.000000</td>\n",
       "    </tr>\n",
       "    <tr>\n",
       "      <th>max</th>\n",
       "      <td>30301.000000</td>\n",
       "      <td>12899.000000</td>\n",
       "      <td>90.000000</td>\n",
       "      <td>NaN</td>\n",
       "      <td>52.000000</td>\n",
       "      <td>NaN</td>\n",
       "      <td>1649.000000</td>\n",
       "      <td>3.000000</td>\n",
       "      <td>4782.000000</td>\n",
       "      <td>365.000000</td>\n",
       "      <td>...</td>\n",
       "      <td>5.740439e+06</td>\n",
       "      <td>5.700290e+06</td>\n",
       "      <td>5.010170e+06</td>\n",
       "      <td>1.226985e+07</td>\n",
       "      <td>2.361808e+06</td>\n",
       "      <td>7.637857e+06</td>\n",
       "      <td>1.414168e+06</td>\n",
       "      <td>5.778185e+06</td>\n",
       "      <td>5.720144e+06</td>\n",
       "      <td>1.000000</td>\n",
       "    </tr>\n",
       "  </tbody>\n",
       "</table>\n",
       "<p>11 rows × 21 columns</p>\n",
       "</div>"
      ],
      "text/plain": [
       "         customer_id       vintage           age gender    dependents  \\\n",
       "count   28382.000000  28382.000000  28382.000000  27857  25919.000000   \n",
       "unique           NaN           NaN           NaN      2           NaN   \n",
       "top              NaN           NaN           NaN   Male           NaN   \n",
       "freq             NaN           NaN           NaN  16548           NaN   \n",
       "mean    15143.508667   2364.336446     48.208336    NaN      0.347236   \n",
       "std      8746.454456   1610.124506     17.807163    NaN      0.997661   \n",
       "min         1.000000    180.000000      1.000000    NaN      0.000000   \n",
       "25%      7557.250000   1121.000000     36.000000    NaN      0.000000   \n",
       "50%     15150.500000   2018.000000     46.000000    NaN      0.000000   \n",
       "75%     22706.750000   3176.000000     60.000000    NaN      0.000000   \n",
       "max     30301.000000  12899.000000     90.000000    NaN     52.000000   \n",
       "\n",
       "           occupation          city  customer_nw_category   branch_code  \\\n",
       "count           28302  27579.000000          28382.000000  28382.000000   \n",
       "unique              5           NaN                   NaN           NaN   \n",
       "top     self_employed           NaN                   NaN           NaN   \n",
       "freq            17476           NaN                   NaN           NaN   \n",
       "mean              NaN    796.109576              2.225530    925.975019   \n",
       "std               NaN    432.872102              0.660443    937.799129   \n",
       "min               NaN      0.000000              1.000000      1.000000   \n",
       "25%               NaN    409.000000              2.000000    176.000000   \n",
       "50%               NaN    834.000000              2.000000    572.000000   \n",
       "75%               NaN   1096.000000              3.000000   1440.000000   \n",
       "max               NaN   1649.000000              3.000000   4782.000000   \n",
       "\n",
       "        days_since_last_transaction      ...       previous_month_end_balance  \\\n",
       "count                  25159.000000      ...                     2.838200e+04   \n",
       "unique                          NaN      ...                              NaN   \n",
       "top                             NaN      ...                              NaN   \n",
       "freq                            NaN      ...                              NaN   \n",
       "mean                      69.997814      ...                     7.495771e+03   \n",
       "std                       86.341098      ...                     4.252935e+04   \n",
       "min                        0.000000      ...                    -3.149570e+03   \n",
       "25%                       11.000000      ...                     1.906000e+03   \n",
       "50%                       30.000000      ...                     3.379915e+03   \n",
       "75%                       95.000000      ...                     6.656535e+03   \n",
       "max                      365.000000      ...                     5.740439e+06   \n",
       "\n",
       "        average_monthly_balance_prevQ  average_monthly_balance_prevQ2  \\\n",
       "count                    2.838200e+04                    2.838200e+04   \n",
       "unique                            NaN                             NaN   \n",
       "top                               NaN                             NaN   \n",
       "freq                              NaN                             NaN   \n",
       "mean                     7.496780e+03                    7.124209e+03   \n",
       "std                      4.172622e+04                    4.457581e+04   \n",
       "min                      1.428690e+03                   -1.650610e+04   \n",
       "25%                      2.180945e+03                    1.832507e+03   \n",
       "50%                      3.542865e+03                    3.359600e+03   \n",
       "75%                      6.666887e+03                    6.517960e+03   \n",
       "max                      5.700290e+06                    5.010170e+06   \n",
       "\n",
       "        current_month_credit  previous_month_credit  current_month_debit  \\\n",
       "count           2.838200e+04           2.838200e+04         2.838200e+04   \n",
       "unique                   NaN                    NaN                  NaN   \n",
       "top                      NaN                    NaN                  NaN   \n",
       "freq                     NaN                    NaN                  NaN   \n",
       "mean            3.433252e+03           3.261694e+03         3.658745e+03   \n",
       "std             7.707145e+04           2.968889e+04         5.198542e+04   \n",
       "min             1.000000e-02           1.000000e-02         1.000000e-02   \n",
       "25%             3.100000e-01           3.300000e-01         4.100000e-01   \n",
       "50%             6.100000e-01           6.300000e-01         9.193000e+01   \n",
       "75%             7.072725e+02           7.492350e+02         1.360435e+03   \n",
       "max             1.226985e+07           2.361808e+06         7.637857e+06   \n",
       "\n",
       "        previous_month_debit  current_month_balance  previous_month_balance  \\\n",
       "count           2.838200e+04           2.838200e+04            2.838200e+04   \n",
       "unique                   NaN                    NaN                     NaN   \n",
       "top                      NaN                    NaN                     NaN   \n",
       "freq                     NaN                    NaN                     NaN   \n",
       "mean            3.339761e+03           7.451133e+03            7.495177e+03   \n",
       "std             2.430111e+04           4.203394e+04            4.243198e+04   \n",
       "min             1.000000e-02          -3.374180e+03           -5.171920e+03   \n",
       "25%             4.100000e-01           1.996765e+03            2.074408e+03   \n",
       "50%             1.099600e+02           3.447995e+03            3.465235e+03   \n",
       "75%             1.357553e+03           6.667958e+03            6.654693e+03   \n",
       "max             1.414168e+06           5.778185e+06            5.720144e+06   \n",
       "\n",
       "               churn  \n",
       "count   28382.000000  \n",
       "unique           NaN  \n",
       "top              NaN  \n",
       "freq             NaN  \n",
       "mean        0.185329  \n",
       "std         0.388571  \n",
       "min         0.000000  \n",
       "25%         0.000000  \n",
       "50%         0.000000  \n",
       "75%         0.000000  \n",
       "max         1.000000  \n",
       "\n",
       "[11 rows x 21 columns]"
      ]
     },
     "execution_count": 9,
     "metadata": {},
     "output_type": "execute_result"
    }
   ],
   "source": [
    "data.describe(include = 'all')"
   ]
  },
  {
   "cell_type": "code",
   "execution_count": 10,
   "metadata": {},
   "outputs": [
    {
     "data": {
      "text/plain": [
       "customer_id                          0\n",
       "vintage                              0\n",
       "age                                  0\n",
       "gender                             525\n",
       "dependents                        2463\n",
       "occupation                          80\n",
       "city                               803\n",
       "customer_nw_category                 0\n",
       "branch_code                          0\n",
       "days_since_last_transaction       3223\n",
       "current_balance                      0\n",
       "previous_month_end_balance           0\n",
       "average_monthly_balance_prevQ        0\n",
       "average_monthly_balance_prevQ2       0\n",
       "current_month_credit                 0\n",
       "previous_month_credit                0\n",
       "current_month_debit                  0\n",
       "previous_month_debit                 0\n",
       "current_month_balance                0\n",
       "previous_month_balance               0\n",
       "churn                                0\n",
       "dtype: int64"
      ]
     },
     "execution_count": 10,
     "metadata": {},
     "output_type": "execute_result"
    }
   ],
   "source": [
    "data.isnull().sum()"
   ]
  },
  {
   "cell_type": "code",
   "execution_count": 11,
   "metadata": {},
   "outputs": [
    {
     "data": {
      "text/plain": [
       "customer_id                         int64\n",
       "vintage                             int64\n",
       "age                                 int64\n",
       "gender                             object\n",
       "dependents                        float64\n",
       "occupation                         object\n",
       "city                              float64\n",
       "customer_nw_category                int64\n",
       "branch_code                         int64\n",
       "days_since_last_transaction       float64\n",
       "current_balance                   float64\n",
       "previous_month_end_balance        float64\n",
       "average_monthly_balance_prevQ     float64\n",
       "average_monthly_balance_prevQ2    float64\n",
       "current_month_credit              float64\n",
       "previous_month_credit             float64\n",
       "current_month_debit               float64\n",
       "previous_month_debit              float64\n",
       "current_month_balance             float64\n",
       "previous_month_balance            float64\n",
       "churn                               int64\n",
       "dtype: object"
      ]
     },
     "execution_count": 11,
     "metadata": {},
     "output_type": "execute_result"
    }
   ],
   "source": [
    "data.dtypes"
   ]
  },
  {
   "cell_type": "markdown",
   "metadata": {},
   "source": [
    "# Univariate Ananlysis"
   ]
  },
  {
   "cell_type": "code",
   "execution_count": 12,
   "metadata": {},
   "outputs": [
    {
     "name": "stdout",
     "output_type": "stream",
     "text": [
      "customer_id\n",
      "vintage\n",
      "age\n",
      "gender\n",
      "dependents\n",
      "occupation\n",
      "city\n",
      "customer_nw_category\n",
      "branch_code\n",
      "days_since_last_transaction\n",
      "current_balance\n",
      "previous_month_end_balance\n",
      "average_monthly_balance_prevQ\n",
      "average_monthly_balance_prevQ2\n",
      "current_month_credit\n",
      "previous_month_credit\n",
      "current_month_debit\n",
      "previous_month_debit\n",
      "current_month_balance\n",
      "previous_month_balance\n",
      "churn\n"
     ]
    }
   ],
   "source": [
    "for col in data.columns:\n",
    "    print(col)"
   ]
  },
  {
   "cell_type": "code",
   "execution_count": 13,
   "metadata": {},
   "outputs": [
    {
     "data": {
      "text/plain": [
       "0    0.814671\n",
       "1    0.185329\n",
       "Name: churn, dtype: float64"
      ]
     },
     "execution_count": 13,
     "metadata": {},
     "output_type": "execute_result"
    }
   ],
   "source": [
    "data[\"churn\"].value_counts()/len(data)"
   ]
  },
  {
   "cell_type": "markdown",
   "metadata": {},
   "source": [
    "### Observation\n",
    "1. It is a highly imbalanced dataset.\n",
    "2. 81.5% people did not fall below the required minimum balance.\n",
    "3. 18.5% people did fall below under the reqiured mimum average balance."
   ]
  },
  {
   "cell_type": "code",
   "execution_count": 14,
   "metadata": {},
   "outputs": [
    {
     "data": {
      "image/png": "[encoded data removed]",
      "text/plain": [
       "<Figure size 432x288 with 1 Axes>"
      ]
     },
     "metadata": {},
     "output_type": "display_data"
    }
   ],
   "source": [
    "x = data[\"vintage\"]\n",
    "plt.hist(x, bins = 50)\n",
    "plt.show()"
   ]
  },
  {
   "cell_type": "markdown",
   "metadata": {},
   "source": [
    "### Observation\n",
    "1. It is rightskewed curve.\n",
    "2. As the values below 8000 are very very less hence they caan be discarded.\n",
    "3. This can be made into a gaussian distribution by takin the log ofvalues."
   ]
  },
  {
   "cell_type": "code",
   "execution_count": 15,
   "metadata": {},
   "outputs": [
    {
     "data": {
      "text/plain": [
       "<matplotlib.axes._subplots.AxesSubplot at 0x25baf03f898>"
      ]
     },
     "execution_count": 15,
     "metadata": {},
     "output_type": "execute_result"
    },
    {
     "data": {
      "image/png": "[encoded data removed]",
      "text/plain": [
       "<Figure size 432x288 with 1 Axes>"
      ]
     },
     "metadata": {},
     "output_type": "display_data"
    }
   ],
   "source": [
    "(data['vintage'].loc[data['vintage']<8000]).plot.hist(bins=50)"
   ]
  },
  {
   "cell_type": "code",
   "execution_count": 16,
   "metadata": {
    "scrolled": true
   },
   "outputs": [
    {
     "data": {
      "image/png": "[encoded data removed]",
      "text/plain": [
       "<Figure size 432x288 with 1 Axes>"
      ]
     },
     "metadata": {},
     "output_type": "display_data"
    }
   ],
   "source": [
    "x = data[\"age\"]\n",
    "plt.hist(x, bins = 30)\n",
    "plt.show()"
   ]
  },
  {
   "cell_type": "code",
   "execution_count": 17,
   "metadata": {},
   "outputs": [
    {
     "data": {
      "text/plain": [
       "<matplotlib.axes._subplots.AxesSubplot at 0x25baf02ce80>"
      ]
     },
     "execution_count": 17,
     "metadata": {},
     "output_type": "execute_result"
    },
    {
     "data": {
      "image/png": "[encoded data removed]",
      "text/plain": [
       "<Figure size 432x288 with 1 Axes>"
      ]
     },
     "metadata": {},
     "output_type": "display_data"
    }
   ],
   "source": [
    "data['gender'].value_counts().plot(kind = 'bar')"
   ]
  },
  {
   "cell_type": "markdown",
   "metadata": {},
   "source": [
    "#### Observation\n",
    "1. Majority of the customers were males.\n"
   ]
  },
  {
   "cell_type": "code",
   "execution_count": 18,
   "metadata": {},
   "outputs": [
    {
     "name": "stdout",
     "output_type": "stream",
     "text": [
      "0.34723561865812724\n",
      "52.0\n",
      "0.0\n"
     ]
    }
   ],
   "source": [
    "print(data[\"dependents\"].mean())\n",
    "print(max(data[\"dependents\"]))\n",
    "print(min(data[\"dependents\"]))"
   ]
  },
  {
   "cell_type": "code",
   "execution_count": 19,
   "metadata": {},
   "outputs": [
    {
     "data": {
      "text/plain": [
       "<matplotlib.axes._subplots.AxesSubplot at 0x25bab5a1240>"
      ]
     },
     "execution_count": 19,
     "metadata": {},
     "output_type": "execute_result"
    },
    {
     "data": {
      "image/png": "[encoded data removed]",
      "text/plain": [
       "<Figure size 432x288 with 1 Axes>"
      ]
     },
     "metadata": {},
     "output_type": "display_data"
    }
   ],
   "source": [
    "(data[\"dependents\"]).plot.hist()"
   ]
  },
  {
   "cell_type": "code",
   "execution_count": 20,
   "metadata": {},
   "outputs": [
    {
     "data": {
      "text/plain": [
       "0.0     75.523219\n",
       "2.0      7.575224\n",
       "1.0      4.915087\n",
       "3.0      2.469875\n",
       "4.0      0.630681\n",
       "5.0      0.144458\n",
       "6.0      0.028187\n",
       "7.0      0.010570\n",
       "36.0     0.003523\n",
       "52.0     0.003523\n",
       "25.0     0.003523\n",
       "9.0      0.003523\n",
       "50.0     0.003523\n",
       "32.0     0.003523\n",
       "8.0      0.003523\n",
       "Name: dependents, dtype: float64"
      ]
     },
     "execution_count": 20,
     "metadata": {},
     "output_type": "execute_result"
    }
   ],
   "source": [
    "(data[\"dependents\"].value_counts()/len(data))*100"
   ]
  },
  {
   "cell_type": "markdown",
   "metadata": {},
   "source": [
    "#### Observation\n",
    "1. Maximum number of customers have 0 dependents.\n",
    "2. This can be converted into catergorica variable by combinig rows where number of dependents are more than 3."
   ]
  },
  {
   "cell_type": "code",
   "execution_count": 21,
   "metadata": {},
   "outputs": [
    {
     "data": {
      "text/plain": [
       "self_employed    61.574237\n",
       "salaried         23.620605\n",
       "student           7.251075\n",
       "retired           7.131280\n",
       "company           0.140934\n",
       "Name: occupation, dtype: float64"
      ]
     },
     "execution_count": 21,
     "metadata": {},
     "output_type": "execute_result"
    }
   ],
   "source": [
    "(data[\"occupation\"].value_counts()/len(data))*100"
   ]
  },
  {
   "cell_type": "code",
   "execution_count": 22,
   "metadata": {},
   "outputs": [
    {
     "data": {
      "text/plain": [
       "<matplotlib.axes._subplots.AxesSubplot at 0x25baf4a8dd8>"
      ]
     },
     "execution_count": 22,
     "metadata": {},
     "output_type": "execute_result"
    },
    {
     "data": {
      "image/png": "[encoded data removed]",
      "text/plain": [
       "<Figure size 432x288 with 1 Axes>"
      ]
     },
     "metadata": {},
     "output_type": "display_data"
    }
   ],
   "source": [
    "data['occupation'].value_counts().plot(kind = 'bar')"
   ]
  },
  {
   "cell_type": "markdown",
   "metadata": {},
   "source": [
    "#### Observation\n",
    "1. Maximum number of people are self employed.\n",
    "2. very less number of people own a company."
   ]
  },
  {
   "cell_type": "code",
   "execution_count": 23,
   "metadata": {},
   "outputs": [
    {
     "data": {
      "text/plain": [
       "2    0.512966\n",
       "3    0.356282\n",
       "1    0.130752\n",
       "Name: customer_nw_category, dtype: float64"
      ]
     },
     "execution_count": 23,
     "metadata": {},
     "output_type": "execute_result"
    }
   ],
   "source": [
    "data['customer_nw_category'].value_counts()/len(data)"
   ]
  },
  {
   "cell_type": "code",
   "execution_count": 24,
   "metadata": {},
   "outputs": [
    {
     "data": {
      "text/plain": [
       "<matplotlib.axes._subplots.AxesSubplot at 0x25baf543fd0>"
      ]
     },
     "execution_count": 24,
     "metadata": {},
     "output_type": "execute_result"
    },
    {
     "data": {
      "image/png": "[encoded data removed]",
      "text/plain": [
       "<Figure size 432x288 with 1 Axes>"
      ]
     },
     "metadata": {},
     "output_type": "display_data"
    }
   ],
   "source": [
    "data['customer_nw_category'].value_counts().plot(kind = 'bar')"
   ]
  },
  {
   "cell_type": "markdown",
   "metadata": {},
   "source": [
    "#### Observation\n",
    "1. 3: Low 2: Medium 1: High\n",
    "2. Maximum number of people have income in the category of medium."
   ]
  },
  {
   "cell_type": "code",
   "execution_count": 25,
   "metadata": {},
   "outputs": [
    {
     "data": {
      "text/plain": [
       "<matplotlib.axes._subplots.AxesSubplot at 0x25baf6d4908>"
      ]
     },
     "execution_count": 25,
     "metadata": {},
     "output_type": "execute_result"
    },
    {
     "data": {
      "image/png": "[encoded data removed]",
      "text/plain": [
       "<Figure size 432x288 with 1 Axes>"
      ]
     },
     "metadata": {},
     "output_type": "display_data"
    }
   ],
   "source": [
    "(data[\"days_since_last_transaction\"]).plot.hist(bins = 50)"
   ]
  },
  {
   "cell_type": "code",
   "execution_count": 26,
   "metadata": {},
   "outputs": [
    {
     "data": {
      "text/plain": [
       "count    25159.000000\n",
       "mean        69.997814\n",
       "std         86.341098\n",
       "min          0.000000\n",
       "25%         11.000000\n",
       "50%         30.000000\n",
       "75%         95.000000\n",
       "max        365.000000\n",
       "Name: days_since_last_transaction, dtype: float64"
      ]
     },
     "execution_count": 26,
     "metadata": {},
     "output_type": "execute_result"
    }
   ],
   "source": [
    "data[\"days_since_last_transaction\"].describe()"
   ]
  },
  {
   "cell_type": "markdown",
   "metadata": {},
   "source": [
    "#### Observation\n",
    "1. It is a right skewed curve.\n",
    "2. Most of the people have done atleast a transaction within 150 days."
   ]
  },
  {
   "cell_type": "code",
   "execution_count": 27,
   "metadata": {},
   "outputs": [
    {
     "data": {
      "text/plain": [
       "<matplotlib.axes._subplots.AxesSubplot at 0x25baf5de198>"
      ]
     },
     "execution_count": 27,
     "metadata": {},
     "output_type": "execute_result"
    },
    {
     "data": {
      "image/png": "[encoded data removed]",
      "text/plain": [
       "<Figure size 432x288 with 1 Axes>"
      ]
     },
     "metadata": {},
     "output_type": "display_data"
    }
   ],
   "source": [
    "(data[\"current_balance\"]).plot.hist(bins = 50)"
   ]
  },
  {
   "cell_type": "code",
   "execution_count": 28,
   "metadata": {},
   "outputs": [
    {
     "data": {
      "text/plain": [
       "count    2.838200e+04\n",
       "mean     7.380552e+03\n",
       "std      4.259871e+04\n",
       "min     -5.503960e+03\n",
       "25%      1.784470e+03\n",
       "50%      3.281255e+03\n",
       "75%      6.635820e+03\n",
       "max      5.905904e+06\n",
       "Name: current_balance, dtype: float64"
      ]
     },
     "execution_count": 28,
     "metadata": {},
     "output_type": "execute_result"
    }
   ],
   "source": [
    "data[\"current_balance\"].describe()"
   ]
  },
  {
   "cell_type": "markdown",
   "metadata": {},
   "source": [
    "#### Observation\n",
    "1. Minimum current balance is 55039\n",
    "2. Maimum people have a positive balance.\n"
   ]
  },
  {
   "cell_type": "code",
   "execution_count": 29,
   "metadata": {},
   "outputs": [
    {
     "data": {
      "text/plain": [
       "customer_id                         int64\n",
       "vintage                             int64\n",
       "age                                 int64\n",
       "gender                             object\n",
       "dependents                        float64\n",
       "occupation                         object\n",
       "city                              float64\n",
       "customer_nw_category                int64\n",
       "branch_code                         int64\n",
       "days_since_last_transaction       float64\n",
       "current_balance                   float64\n",
       "previous_month_end_balance        float64\n",
       "average_monthly_balance_prevQ     float64\n",
       "average_monthly_balance_prevQ2    float64\n",
       "current_month_credit              float64\n",
       "previous_month_credit             float64\n",
       "current_month_debit               float64\n",
       "previous_month_debit              float64\n",
       "current_month_balance             float64\n",
       "previous_month_balance            float64\n",
       "churn                               int64\n",
       "dtype: object"
      ]
     },
     "execution_count": 29,
     "metadata": {},
     "output_type": "execute_result"
    }
   ],
   "source": [
    "data.dtypes"
   ]
  },
  {
   "cell_type": "code",
   "execution_count": 30,
   "metadata": {},
   "outputs": [
    {
     "data": {
      "text/plain": [
       "<matplotlib.axes._subplots.AxesSubplot at 0x25baf7d97b8>"
      ]
     },
     "execution_count": 30,
     "metadata": {},
     "output_type": "execute_result"
    },
    {
     "data": {
      "image/png": "[encoded data removed]",
      "text/plain": [
       "<Figure size 432x288 with 1 Axes>"
      ]
     },
     "metadata": {},
     "output_type": "display_data"
    }
   ],
   "source": [
    "(data[\"previous_month_end_balance\"]).plot.hist( bins = 50)"
   ]
  },
  {
   "cell_type": "code",
   "execution_count": 31,
   "metadata": {},
   "outputs": [
    {
     "data": {
      "text/plain": [
       "count    2.838200e+04\n",
       "mean     7.495771e+03\n",
       "std      4.252935e+04\n",
       "min     -3.149570e+03\n",
       "25%      1.906000e+03\n",
       "50%      3.379915e+03\n",
       "75%      6.656535e+03\n",
       "max      5.740439e+06\n",
       "Name: previous_month_end_balance, dtype: float64"
      ]
     },
     "execution_count": 31,
     "metadata": {},
     "output_type": "execute_result"
    }
   ],
   "source": [
    "data[\"previous_month_end_balance\"].describe()"
   ]
  },
  {
   "cell_type": "markdown",
   "metadata": {},
   "source": [
    "#### Observation\n",
    "1. distribution of previous mont's end balance and their currenet balace are very similar.\n",
    "2. Very less number of people have balance above 10000\n",
    "3. There are some people who have monthly balance lower than 0."
   ]
  },
  {
   "cell_type": "code",
   "execution_count": 32,
   "metadata": {},
   "outputs": [
    {
     "data": {
      "text/plain": [
       "<matplotlib.axes._subplots.AxesSubplot at 0x25baf550a20>"
      ]
     },
     "execution_count": 32,
     "metadata": {},
     "output_type": "execute_result"
    },
    {
     "data": {
      "image/png": "[encoded data removed]",
      "text/plain": [
       "<Figure size 432x288 with 1 Axes>"
      ]
     },
     "metadata": {},
     "output_type": "display_data"
    }
   ],
   "source": [
    "(data[\"average_monthly_balance_prevQ\"]).plot.hist( bins = 50)"
   ]
  },
  {
   "cell_type": "code",
   "execution_count": 33,
   "metadata": {},
   "outputs": [
    {
     "data": {
      "text/plain": [
       "count    2.838200e+04\n",
       "mean     7.496780e+03\n",
       "std      4.172622e+04\n",
       "min      1.428690e+03\n",
       "25%      2.180945e+03\n",
       "50%      3.542865e+03\n",
       "75%      6.666887e+03\n",
       "max      5.700290e+06\n",
       "Name: average_monthly_balance_prevQ, dtype: float64"
      ]
     },
     "execution_count": 33,
     "metadata": {},
     "output_type": "execute_result"
    }
   ],
   "source": [
    "data[\"average_monthly_balance_prevQ\"].describe()"
   ]
  },
  {
   "cell_type": "markdown",
   "metadata": {},
   "source": [
    "#### Observation\n",
    "1. Avergare balance in the previous quater has not changed much as the observations are very similar.\n",
    "2. Here  the minimum balance is not below 0.\n",
    "3. Condition of monthly balance maintainence has degraded in the las quater."
   ]
  },
  {
   "cell_type": "code",
   "execution_count": 34,
   "metadata": {},
   "outputs": [
    {
     "data": {
      "text/plain": [
       "<matplotlib.axes._subplots.AxesSubplot at 0x25baf76fe10>"
      ]
     },
     "execution_count": 34,
     "metadata": {},
     "output_type": "execute_result"
    },
    {
     "data": {
      "image/png": "[encoded data removed]",
      "text/plain": [
       "<Figure size 432x288 with 1 Axes>"
      ]
     },
     "metadata": {},
     "output_type": "display_data"
    }
   ],
   "source": [
    "(data[\"average_monthly_balance_prevQ2\"]).plot.hist( bins = 50)"
   ]
  },
  {
   "cell_type": "code",
   "execution_count": 35,
   "metadata": {},
   "outputs": [
    {
     "data": {
      "text/plain": [
       "count    2.838200e+04\n",
       "mean     7.124209e+03\n",
       "std      4.457581e+04\n",
       "min     -1.650610e+04\n",
       "25%      1.832507e+03\n",
       "50%      3.359600e+03\n",
       "75%      6.517960e+03\n",
       "max      5.010170e+06\n",
       "Name: average_monthly_balance_prevQ2, dtype: float64"
      ]
     },
     "execution_count": 35,
     "metadata": {},
     "output_type": "execute_result"
    }
   ],
   "source": [
    "data[\"average_monthly_balance_prevQ2\"].describe()"
   ]
  },
  {
   "cell_type": "markdown",
   "metadata": {},
   "source": [
    "#### Observation \n",
    "1. Mean of balance have incerased from second last quater to the last quater.\n",
    "2. Some did have a negative balance in the second last quater.\n",
    "3. There are no missing values.\n",
    "4. All the other observations are similar to the last quater."
   ]
  },
  {
   "cell_type": "code",
   "execution_count": 36,
   "metadata": {},
   "outputs": [
    {
     "data": {
      "text/plain": [
       "<matplotlib.axes._subplots.AxesSubplot at 0x25baf040080>"
      ]
     },
     "execution_count": 36,
     "metadata": {},
     "output_type": "execute_result"
    },
    {
     "data": {
      "image/png": "[encoded data removed]",
      "text/plain": [
       "<Figure size 432x288 with 1 Axes>"
      ]
     },
     "metadata": {},
     "output_type": "display_data"
    }
   ],
   "source": [
    "(data[\"current_month_credit\"]).plot.hist( bins = 50)"
   ]
  },
  {
   "cell_type": "code",
   "execution_count": 37,
   "metadata": {},
   "outputs": [
    {
     "data": {
      "text/plain": [
       "count    2.838200e+04\n",
       "mean     3.433252e+03\n",
       "std      7.707145e+04\n",
       "min      1.000000e-02\n",
       "25%      3.100000e-01\n",
       "50%      6.100000e-01\n",
       "75%      7.072725e+02\n",
       "max      1.226985e+07\n",
       "Name: current_month_credit, dtype: float64"
      ]
     },
     "execution_count": 37,
     "metadata": {},
     "output_type": "execute_result"
    }
   ],
   "source": [
    "data[\"current_month_credit\"].describe()"
   ]
  },
  {
   "cell_type": "code",
   "execution_count": 38,
   "metadata": {},
   "outputs": [
    {
     "name": "stdout",
     "output_type": "stream",
     "text": [
      "       customer_id  vintage  age  gender  dependents     occupation    city  \\\n",
      "7787          8295     2895   51    Male         0.0  self_employed  1232.0   \n",
      "12218        13047     3882   51    Male         0.0  self_employed  1020.0   \n",
      "13012        13895     2903   55  Female         0.0  self_employed  1534.0   \n",
      "24095        25712     1192   90    Male         0.0        retired  1020.0   \n",
      "\n",
      "       customer_nw_category  branch_code  days_since_last_transaction  ...    \\\n",
      "7787                      1            7                          4.0  ...     \n",
      "12218                     1           60                          7.0  ...     \n",
      "13012                     2           63                         11.0  ...     \n",
      "24095                     2            5                         18.0  ...     \n",
      "\n",
      "       previous_month_end_balance  average_monthly_balance_prevQ  \\\n",
      "7787                    206014.78                      284779.02   \n",
      "12218                   356602.22                      170440.29   \n",
      "13012                    22919.79                       22416.17   \n",
      "24095                    24270.54                       11728.39   \n",
      "\n",
      "       average_monthly_balance_prevQ2  current_month_credit  \\\n",
      "7787                        323182.68            1476976.45   \n",
      "12218                       113738.06            1383300.84   \n",
      "13012                        22092.02            1764285.97   \n",
      "24095                       111617.41           12269845.39   \n",
      "\n",
      "       previous_month_credit  current_month_debit  previous_month_debit  \\\n",
      "7787              2361808.29            824573.99            1159958.76   \n",
      "12218             1971436.45            242838.61               8394.94   \n",
      "13012               71428.83           1764285.97              71428.83   \n",
      "24095                   0.21           7637857.36                  0.21   \n",
      "\n",
      "       current_month_balance  previous_month_balance  churn  \n",
      "7787               263497.14               383897.54      0  \n",
      "12218              131732.17               300160.62      0  \n",
      "13012               23278.80                22617.63      0  \n",
      "24095                8399.62                24270.54      1  \n",
      "\n",
      "[4 rows x 21 columns]\n"
     ]
    }
   ],
   "source": [
    "d = data[data[\"current_month_credit\"]>1000000]\n",
    "print(d)"
   ]
  },
  {
   "cell_type": "markdown",
   "metadata": {},
   "source": [
    "#### Observation\n",
    "1. Majority of peopple have not credited any amount int the current month.\n",
    "2. 50% of people have debited their account in the current month.\n",
    "3. only 128 people have current month credit more than 1 lakh."
   ]
  },
  {
   "cell_type": "code",
   "execution_count": 39,
   "metadata": {},
   "outputs": [
    {
     "data": {
      "text/plain": [
       "<matplotlib.axes._subplots.AxesSubplot at 0x25baf5c1f28>"
      ]
     },
     "execution_count": 39,
     "metadata": {},
     "output_type": "execute_result"
    },
    {
     "data": {
      "image/png": "[encoded data removed]",
      "text/plain": [
       "<Figure size 432x288 with 1 Axes>"
      ]
     },
     "metadata": {},
     "output_type": "display_data"
    }
   ],
   "source": [
    "(data[\"current_month_debit\"]).plot.hist( bins = 50)"
   ]
  },
  {
   "cell_type": "code",
   "execution_count": 40,
   "metadata": {},
   "outputs": [
    {
     "data": {
      "text/plain": [
       "count    2.838200e+04\n",
       "mean     3.658745e+03\n",
       "std      5.198542e+04\n",
       "min      1.000000e-02\n",
       "25%      4.100000e-01\n",
       "50%      9.193000e+01\n",
       "75%      1.360435e+03\n",
       "max      7.637857e+06\n",
       "Name: current_month_debit, dtype: float64"
      ]
     },
     "execution_count": 40,
     "metadata": {},
     "output_type": "execute_result"
    }
   ],
   "source": [
    "data[\"current_month_debit\"].describe()"
   ]
  },
  {
   "cell_type": "markdown",
   "metadata": {},
   "source": [
    "#### Observation\n",
    "1. "
   ]
  },
  {
   "cell_type": "code",
   "execution_count": 41,
   "metadata": {},
   "outputs": [
    {
     "data": {
      "text/plain": [
       "<matplotlib.axes._subplots.AxesSubplot at 0x25baf03e160>"
      ]
     },
     "execution_count": 41,
     "metadata": {},
     "output_type": "execute_result"
    },
    {
     "data": {
      "image/png": "[encoded data removed]",
      "text/plain": [
       "<Figure size 432x288 with 1 Axes>"
      ]
     },
     "metadata": {},
     "output_type": "display_data"
    }
   ],
   "source": [
    "(data[\"previous_month_debit\"]).plot.hist( bins = 50)"
   ]
  },
  {
   "cell_type": "code",
   "execution_count": 42,
   "metadata": {},
   "outputs": [
    {
     "data": {
      "text/plain": [
       "count    2.838200e+04\n",
       "mean     3.339761e+03\n",
       "std      2.430111e+04\n",
       "min      1.000000e-02\n",
       "25%      4.100000e-01\n",
       "50%      1.099600e+02\n",
       "75%      1.357553e+03\n",
       "max      1.414168e+06\n",
       "Name: previous_month_debit, dtype: float64"
      ]
     },
     "execution_count": 42,
     "metadata": {},
     "output_type": "execute_result"
    }
   ],
   "source": [
    "(data[\"previous_month_debit\"]).describe()"
   ]
  },
  {
   "cell_type": "markdown",
   "metadata": {},
   "source": [
    "#### Obsservation\n",
    "1."
   ]
  },
  {
   "cell_type": "code",
   "execution_count": 43,
   "metadata": {},
   "outputs": [
    {
     "data": {
      "text/plain": [
       "<matplotlib.axes._subplots.AxesSubplot at 0x25baf5207f0>"
      ]
     },
     "execution_count": 43,
     "metadata": {},
     "output_type": "execute_result"
    },
    {
     "data": {
      "image/png": "[encoded data removed]",
      "text/plain": [
       "<Figure size 432x288 with 1 Axes>"
      ]
     },
     "metadata": {},
     "output_type": "display_data"
    }
   ],
   "source": [
    "(data[\"current_month_balance\"]).plot.hist( bins = 50)"
   ]
  },
  {
   "cell_type": "code",
   "execution_count": 44,
   "metadata": {},
   "outputs": [
    {
     "name": "stdout",
     "output_type": "stream",
     "text": [
      "count    2.838200e+04\n",
      "mean     7.451133e+03\n",
      "std      4.203394e+04\n",
      "min     -3.374180e+03\n",
      "25%      1.996765e+03\n",
      "50%      3.447995e+03\n",
      "75%      6.667958e+03\n",
      "max      5.778185e+06\n",
      "Name: current_month_balance, dtype: float64\n",
      "count    2.838200e+04\n",
      "mean     7.380552e+03\n",
      "std      4.259871e+04\n",
      "min     -5.503960e+03\n",
      "25%      1.784470e+03\n",
      "50%      3.281255e+03\n",
      "75%      6.635820e+03\n",
      "max      5.905904e+06\n",
      "Name: current_balance, dtype: float64\n"
     ]
    }
   ],
   "source": [
    "print(data[\"current_month_balance\"].describe())\n",
    "print(data[\"current_balance\"].describe())"
   ]
  },
  {
   "cell_type": "markdown",
   "metadata": {},
   "source": [
    "#### Observation\n",
    "1. minimum current month balance was 3374\n",
    "2. Very less deviation is obsered in current balanace and current month balance."
   ]
  },
  {
   "cell_type": "code",
   "execution_count": 45,
   "metadata": {},
   "outputs": [
    {
     "data": {
      "text/plain": [
       "<matplotlib.axes._subplots.AxesSubplot at 0x25bb0189e80>"
      ]
     },
     "execution_count": 45,
     "metadata": {},
     "output_type": "execute_result"
    },
    {
     "data": {
      "image/png": "[encoded data removed]",
      "text/plain": [
       "<Figure size 432x288 with 1 Axes>"
      ]
     },
     "metadata": {},
     "output_type": "display_data"
    }
   ],
   "source": [
    "(data[\"previous_month_balance\"]).plot.hist( bins = 50)"
   ]
  },
  {
   "cell_type": "code",
   "execution_count": 46,
   "metadata": {},
   "outputs": [
    {
     "data": {
      "text/plain": [
       "count    2.838200e+04\n",
       "mean     7.495177e+03\n",
       "std      4.243198e+04\n",
       "min     -5.171920e+03\n",
       "25%      2.074408e+03\n",
       "50%      3.465235e+03\n",
       "75%      6.654693e+03\n",
       "max      5.720144e+06\n",
       "Name: previous_month_balance, dtype: float64"
      ]
     },
     "execution_count": 46,
     "metadata": {},
     "output_type": "execute_result"
    }
   ],
   "source": [
    "(data[\"previous_month_balance\"]).describe()"
   ]
  },
  {
   "cell_type": "markdown",
   "metadata": {},
   "source": [
    "#### Observation\n",
    "1. Highly right skewed curve.\n",
    "2. Least amount of balance was negative 51719."
   ]
  },
  {
   "cell_type": "markdown",
   "metadata": {},
   "source": [
    "# DATA MANIPULATION and FEATURE ENGINEERING\n",
    "1. DROPING DUPLPIATE ROWS\n",
    "2. FILLING MISSING VALUES \n",
    "3. COORECTING DATA TYPE\n",
    "4. CORRECTING SPELLING MISTAKES"
   ]
  },
  {
   "cell_type": "code",
   "execution_count": 47,
   "metadata": {},
   "outputs": [
    {
     "data": {
      "text/html": [
       "<div>\n",
       "<style scoped>\n",
       "    .dataframe tbody tr th:only-of-type {\n",
       "        vertical-align: middle;\n",
       "    }\n",
       "\n",
       "    .dataframe tbody tr th {\n",
       "        vertical-align: top;\n",
       "    }\n",
       "\n",
       "    .dataframe thead th {\n",
       "        text-align: right;\n",
       "    }\n",
       "</style>\n",
       "<table border=\"1\" class=\"dataframe\">\n",
       "  <thead>\n",
       "    <tr style=\"text-align: right;\">\n",
       "      <th></th>\n",
       "      <th>customer_id</th>\n",
       "      <th>vintage</th>\n",
       "      <th>age</th>\n",
       "      <th>gender</th>\n",
       "      <th>dependents</th>\n",
       "      <th>occupation</th>\n",
       "      <th>city</th>\n",
       "      <th>customer_nw_category</th>\n",
       "      <th>branch_code</th>\n",
       "      <th>days_since_last_transaction</th>\n",
       "      <th>...</th>\n",
       "      <th>previous_month_end_balance</th>\n",
       "      <th>average_monthly_balance_prevQ</th>\n",
       "      <th>average_monthly_balance_prevQ2</th>\n",
       "      <th>current_month_credit</th>\n",
       "      <th>previous_month_credit</th>\n",
       "      <th>current_month_debit</th>\n",
       "      <th>previous_month_debit</th>\n",
       "      <th>current_month_balance</th>\n",
       "      <th>previous_month_balance</th>\n",
       "      <th>churn</th>\n",
       "    </tr>\n",
       "  </thead>\n",
       "  <tbody>\n",
       "    <tr>\n",
       "      <th>0</th>\n",
       "      <td>1</td>\n",
       "      <td>3135</td>\n",
       "      <td>66</td>\n",
       "      <td>Male</td>\n",
       "      <td>0.0</td>\n",
       "      <td>self_employed</td>\n",
       "      <td>187.0</td>\n",
       "      <td>2</td>\n",
       "      <td>755</td>\n",
       "      <td>224.0</td>\n",
       "      <td>...</td>\n",
       "      <td>1458.71</td>\n",
       "      <td>1458.71</td>\n",
       "      <td>1449.07</td>\n",
       "      <td>0.20</td>\n",
       "      <td>0.20</td>\n",
       "      <td>0.20</td>\n",
       "      <td>0.20</td>\n",
       "      <td>1458.71</td>\n",
       "      <td>1458.71</td>\n",
       "      <td>0</td>\n",
       "    </tr>\n",
       "    <tr>\n",
       "      <th>1</th>\n",
       "      <td>2</td>\n",
       "      <td>310</td>\n",
       "      <td>35</td>\n",
       "      <td>Male</td>\n",
       "      <td>0.0</td>\n",
       "      <td>self_employed</td>\n",
       "      <td>NaN</td>\n",
       "      <td>2</td>\n",
       "      <td>3214</td>\n",
       "      <td>60.0</td>\n",
       "      <td>...</td>\n",
       "      <td>8704.66</td>\n",
       "      <td>7799.26</td>\n",
       "      <td>12419.41</td>\n",
       "      <td>0.56</td>\n",
       "      <td>0.56</td>\n",
       "      <td>5486.27</td>\n",
       "      <td>100.56</td>\n",
       "      <td>6496.78</td>\n",
       "      <td>8787.61</td>\n",
       "      <td>0</td>\n",
       "    </tr>\n",
       "    <tr>\n",
       "      <th>2</th>\n",
       "      <td>4</td>\n",
       "      <td>2356</td>\n",
       "      <td>31</td>\n",
       "      <td>Male</td>\n",
       "      <td>0.0</td>\n",
       "      <td>salaried</td>\n",
       "      <td>146.0</td>\n",
       "      <td>2</td>\n",
       "      <td>41</td>\n",
       "      <td>NaN</td>\n",
       "      <td>...</td>\n",
       "      <td>5815.29</td>\n",
       "      <td>4910.17</td>\n",
       "      <td>2815.94</td>\n",
       "      <td>0.61</td>\n",
       "      <td>0.61</td>\n",
       "      <td>6046.73</td>\n",
       "      <td>259.23</td>\n",
       "      <td>5006.28</td>\n",
       "      <td>5070.14</td>\n",
       "      <td>0</td>\n",
       "    </tr>\n",
       "    <tr>\n",
       "      <th>3</th>\n",
       "      <td>5</td>\n",
       "      <td>478</td>\n",
       "      <td>90</td>\n",
       "      <td>NaN</td>\n",
       "      <td>NaN</td>\n",
       "      <td>self_employed</td>\n",
       "      <td>1020.0</td>\n",
       "      <td>2</td>\n",
       "      <td>582</td>\n",
       "      <td>147.0</td>\n",
       "      <td>...</td>\n",
       "      <td>2291.91</td>\n",
       "      <td>2084.54</td>\n",
       "      <td>1006.54</td>\n",
       "      <td>0.47</td>\n",
       "      <td>0.47</td>\n",
       "      <td>0.47</td>\n",
       "      <td>2143.33</td>\n",
       "      <td>2291.91</td>\n",
       "      <td>1669.79</td>\n",
       "      <td>1</td>\n",
       "    </tr>\n",
       "    <tr>\n",
       "      <th>4</th>\n",
       "      <td>6</td>\n",
       "      <td>2531</td>\n",
       "      <td>42</td>\n",
       "      <td>Male</td>\n",
       "      <td>2.0</td>\n",
       "      <td>self_employed</td>\n",
       "      <td>1494.0</td>\n",
       "      <td>3</td>\n",
       "      <td>388</td>\n",
       "      <td>58.0</td>\n",
       "      <td>...</td>\n",
       "      <td>1401.72</td>\n",
       "      <td>1643.31</td>\n",
       "      <td>1871.12</td>\n",
       "      <td>0.33</td>\n",
       "      <td>714.61</td>\n",
       "      <td>588.62</td>\n",
       "      <td>1538.06</td>\n",
       "      <td>1157.15</td>\n",
       "      <td>1677.16</td>\n",
       "      <td>1</td>\n",
       "    </tr>\n",
       "  </tbody>\n",
       "</table>\n",
       "<p>5 rows × 21 columns</p>\n",
       "</div>"
      ],
      "text/plain": [
       "   customer_id  vintage  age gender  dependents     occupation    city  \\\n",
       "0            1     3135   66   Male         0.0  self_employed   187.0   \n",
       "1            2      310   35   Male         0.0  self_employed     NaN   \n",
       "2            4     2356   31   Male         0.0       salaried   146.0   \n",
       "3            5      478   90    NaN         NaN  self_employed  1020.0   \n",
       "4            6     2531   42   Male         2.0  self_employed  1494.0   \n",
       "\n",
       "   customer_nw_category  branch_code  days_since_last_transaction  ...    \\\n",
       "0                     2          755                        224.0  ...     \n",
       "1                     2         3214                         60.0  ...     \n",
       "2                     2           41                          NaN  ...     \n",
       "3                     2          582                        147.0  ...     \n",
       "4                     3          388                         58.0  ...     \n",
       "\n",
       "   previous_month_end_balance  average_monthly_balance_prevQ  \\\n",
       "0                     1458.71                        1458.71   \n",
       "1                     8704.66                        7799.26   \n",
       "2                     5815.29                        4910.17   \n",
       "3                     2291.91                        2084.54   \n",
       "4                     1401.72                        1643.31   \n",
       "\n",
       "   average_monthly_balance_prevQ2  current_month_credit  \\\n",
       "0                         1449.07                  0.20   \n",
       "1                        12419.41                  0.56   \n",
       "2                         2815.94                  0.61   \n",
       "3                         1006.54                  0.47   \n",
       "4                         1871.12                  0.33   \n",
       "\n",
       "   previous_month_credit  current_month_debit  previous_month_debit  \\\n",
       "0                   0.20                 0.20                  0.20   \n",
       "1                   0.56              5486.27                100.56   \n",
       "2                   0.61              6046.73                259.23   \n",
       "3                   0.47                 0.47               2143.33   \n",
       "4                 714.61               588.62               1538.06   \n",
       "\n",
       "   current_month_balance  previous_month_balance  churn  \n",
       "0                1458.71                 1458.71      0  \n",
       "1                6496.78                 8787.61      0  \n",
       "2                5006.28                 5070.14      0  \n",
       "3                2291.91                 1669.79      1  \n",
       "4                1157.15                 1677.16      1  \n",
       "\n",
       "[5 rows x 21 columns]"
      ]
     },
     "execution_count": 47,
     "metadata": {},
     "output_type": "execute_result"
    }
   ],
   "source": [
    "data.drop_duplicates().head()"
   ]
  },
  {
   "cell_type": "code",
   "execution_count": 48,
   "metadata": {},
   "outputs": [
    {
     "data": {
      "text/plain": [
       "(28382, 21)"
      ]
     },
     "execution_count": 48,
     "metadata": {},
     "output_type": "execute_result"
    }
   ],
   "source": [
    "data.shape"
   ]
  },
  {
   "cell_type": "markdown",
   "metadata": {},
   "source": [
    "#### Observation \n",
    "- There weere no duplicate rows as the shape did not change "
   ]
  },
  {
   "cell_type": "code",
   "execution_count": 49,
   "metadata": {},
   "outputs": [
    {
     "data": {
      "text/plain": [
       "customer_id                          0\n",
       "vintage                              0\n",
       "age                                  0\n",
       "gender                             525\n",
       "dependents                        2463\n",
       "occupation                          80\n",
       "city                               803\n",
       "customer_nw_category                 0\n",
       "branch_code                          0\n",
       "days_since_last_transaction       3223\n",
       "current_balance                      0\n",
       "previous_month_end_balance           0\n",
       "average_monthly_balance_prevQ        0\n",
       "average_monthly_balance_prevQ2       0\n",
       "current_month_credit                 0\n",
       "previous_month_credit                0\n",
       "current_month_debit                  0\n",
       "previous_month_debit                 0\n",
       "current_month_balance                0\n",
       "previous_month_balance               0\n",
       "churn                                0\n",
       "dtype: int64"
      ]
     },
     "execution_count": 49,
     "metadata": {},
     "output_type": "execute_result"
    }
   ],
   "source": [
    "data.isnull().sum()"
   ]
  },
  {
   "cell_type": "code",
   "execution_count": 50,
   "metadata": {},
   "outputs": [
    {
     "data": {
      "text/plain": [
       "0    Male\n",
       "dtype: object"
      ]
     },
     "execution_count": 50,
     "metadata": {},
     "output_type": "execute_result"
    }
   ],
   "source": [
    "data[\"gender\"].mode()"
   ]
  },
  {
   "cell_type": "code",
   "execution_count": 51,
   "metadata": {},
   "outputs": [],
   "source": [
    "data['gender'].fillna(value = (data['gender'].mode()[0]),inplace=True)"
   ]
  },
  {
   "cell_type": "code",
   "execution_count": 52,
   "metadata": {},
   "outputs": [
    {
     "data": {
      "text/plain": [
       "customer_id                          0\n",
       "vintage                              0\n",
       "age                                  0\n",
       "gender                               0\n",
       "dependents                        2463\n",
       "occupation                          80\n",
       "city                               803\n",
       "customer_nw_category                 0\n",
       "branch_code                          0\n",
       "days_since_last_transaction       3223\n",
       "current_balance                      0\n",
       "previous_month_end_balance           0\n",
       "average_monthly_balance_prevQ        0\n",
       "average_monthly_balance_prevQ2       0\n",
       "current_month_credit                 0\n",
       "previous_month_credit                0\n",
       "current_month_debit                  0\n",
       "previous_month_debit                 0\n",
       "current_month_balance                0\n",
       "previous_month_balance               0\n",
       "churn                                0\n",
       "dtype: int64"
      ]
     },
     "execution_count": 52,
     "metadata": {},
     "output_type": "execute_result"
    }
   ],
   "source": [
    "data.isnull().sum()"
   ]
  },
  {
   "cell_type": "code",
   "execution_count": 53,
   "metadata": {},
   "outputs": [
    {
     "data": {
      "text/plain": [
       "0.34723561865812724"
      ]
     },
     "execution_count": 53,
     "metadata": {},
     "output_type": "execute_result"
    }
   ],
   "source": [
    "data[\"dependents\"].mean()"
   ]
  },
  {
   "cell_type": "code",
   "execution_count": 54,
   "metadata": {},
   "outputs": [],
   "source": [
    "data['dependents'].fillna(value = (data['dependents'].mean()),inplace=True)"
   ]
  },
  {
   "cell_type": "code",
   "execution_count": 55,
   "metadata": {},
   "outputs": [
    {
     "data": {
      "text/plain": [
       "self_employed    17476\n",
       "salaried          6704\n",
       "student           2058\n",
       "retired           2024\n",
       "company             40\n",
       "Name: occupation, dtype: int64"
      ]
     },
     "execution_count": 55,
     "metadata": {},
     "output_type": "execute_result"
    }
   ],
   "source": [
    "data[\"occupation\"].value_counts()"
   ]
  },
  {
   "cell_type": "code",
   "execution_count": 56,
   "metadata": {},
   "outputs": [],
   "source": [
    "data['occupation'].fillna(value = (data['occupation'].mode()[0]),inplace=True)"
   ]
  },
  {
   "cell_type": "code",
   "execution_count": 57,
   "metadata": {},
   "outputs": [],
   "source": [
    "data['city'].fillna(value = (data['city'].mean()),inplace=True)"
   ]
  },
  {
   "cell_type": "code",
   "execution_count": 58,
   "metadata": {},
   "outputs": [],
   "source": [
    "data['days_since_last_transaction'].fillna(value = (data['days_since_last_transaction'].mean()),inplace=True)"
   ]
  },
  {
   "cell_type": "code",
   "execution_count": 59,
   "metadata": {},
   "outputs": [
    {
     "data": {
      "text/plain": [
       "customer_id                       0\n",
       "vintage                           0\n",
       "age                               0\n",
       "gender                            0\n",
       "dependents                        0\n",
       "occupation                        0\n",
       "city                              0\n",
       "customer_nw_category              0\n",
       "branch_code                       0\n",
       "days_since_last_transaction       0\n",
       "current_balance                   0\n",
       "previous_month_end_balance        0\n",
       "average_monthly_balance_prevQ     0\n",
       "average_monthly_balance_prevQ2    0\n",
       "current_month_credit              0\n",
       "previous_month_credit             0\n",
       "current_month_debit               0\n",
       "previous_month_debit              0\n",
       "current_month_balance             0\n",
       "previous_month_balance            0\n",
       "churn                             0\n",
       "dtype: int64"
      ]
     },
     "execution_count": 59,
     "metadata": {},
     "output_type": "execute_result"
    }
   ],
   "source": [
    "data.isnull().sum()"
   ]
  },
  {
   "cell_type": "markdown",
   "metadata": {},
   "source": [
    "#### RESULT\n",
    "- Now, there are no missin values in the datset.\n"
   ]
  },
  {
   "cell_type": "code",
   "execution_count": 60,
   "metadata": {},
   "outputs": [],
   "source": [
    "# dropping the rows where the value of dependents is more than 7\n",
    "\n",
    "data.drop(data[data[\"dependents\"]>7].index, axis=0, inplace=True)"
   ]
  },
  {
   "cell_type": "code",
   "execution_count": 61,
   "metadata": {},
   "outputs": [
    {
     "data": {
      "text/plain": [
       "(28375, 21)"
      ]
     },
     "execution_count": 61,
     "metadata": {},
     "output_type": "execute_result"
    }
   ],
   "source": [
    "data.shape"
   ]
  },
  {
   "cell_type": "markdown",
   "metadata": {},
   "source": [
    "#### Result \n",
    "- Earlier there were 28382 rows now there are 28375 rows so rest of the oulier rows have been removed "
   ]
  },
  {
   "cell_type": "markdown",
   "metadata": {},
   "source": [
    "# BI-VARIATE ANALYSIS"
   ]
  },
  {
   "cell_type": "markdown",
   "metadata": {},
   "source": [
    "### Problem Statement : \n",
    "To predict the propensity to churn for each customer.\n",
    "### Data Dictionary\n",
    "There are multiple variables in the dataset which can be cleanly divided into 3 categories:\n",
    "### Demographic information about customers\n",
    "-\tcustomer_id - Customer id \n",
    "-\tvintage - Vintage of the customer with the bank in a number of days \n",
    "-\tage - Age of customer \n",
    "-\tgender - Gender of customer \n",
    "-\tdependents - Number of dependents \n",
    "-\toccupation - Occupation of the customer \n",
    "-\tcity - City of the customer (anonymized)\n",
    "\n",
    "\n",
    "### Customer Bank Relationship\n",
    "\n",
    "-\tcustomer_nw_category - Net worth of customer (3: Low 2: Medium 1: High) \n",
    "-\tbranch_code - Branch Code for a customer account \n",
    "-\tdays_since_last_transaction - No of Days Since Last Credit in Last 1 year\n",
    "\n",
    "\n",
    "### Transactional Information\n",
    "\n",
    "-\tcurrent_balance - Balance as of today \n",
    "-\tprevious_month_end_balance - End of Month Balance of previous month \n",
    "-\taverage_monthly_balance_prevQ - Average monthly balances (AMB) in Previous Quarter \n",
    "-\taverage_monthly_balance_prevQ2 - Average monthly balances (AMB) in previous to the previous quarter \n",
    "-\tcurrent_month_credit - Total Credit Amount current month \n",
    "-\tprevious_month_credit - Total Credit Amount previous month \n",
    "-\tcurrent_month_debit - Total Debit Amount current month \n",
    "-\tprevious_month_debit - Total Debit Amount previous month \n",
    "-\tcurrent_month_balance - Average Balance of current month \n",
    "-\tprevious_month_balance - Average Balance of previous month \n",
    "-\tchurn - Average balance of customer falls below minimum balance in the next quarter (1/0) \n"
   ]
  },
  {
   "cell_type": "markdown",
   "metadata": {},
   "source": [
    "## HYPOTHESIS GENERATION\n",
    "- Occupation will paly a major role in determining if the cutomer will churn or not.\n",
    "- A customer will churn or not will most likely depend on the net income category of the customer.\n",
    "- Days since lasst transacion can also be an important factor as people who havent done transaction in a long time may churn.\n",
    "- People with negative balance are moroe likely to churn.\n",
    "- Average balance of previous both quaters can play an important role in determing the financial potential of the customer hence it will also help for finding if he churns or not.\n"
   ]
  },
  {
   "cell_type": "code",
   "execution_count": 62,
   "metadata": {},
   "outputs": [
    {
     "data": {
      "text/plain": [
       "<matplotlib.axes._subplots.AxesSubplot at 0x25bb01d4da0>"
      ]
     },
     "execution_count": 62,
     "metadata": {},
     "output_type": "execute_result"
    },
    {
     "data": {
      "image/png": "[encoded data removed]",
      "text/plain": [
       "<Figure size 432x288 with 1 Axes>"
      ]
     },
     "metadata": {},
     "output_type": "display_data"
    }
   ],
   "source": [
    "data.plot.scatter('churn','vintage')"
   ]
  },
  {
   "cell_type": "code",
   "execution_count": 71,
   "metadata": {},
   "outputs": [
    {
     "data": {
      "image/png": "[encoded data removed]",
      "text/plain": [
       "<Figure size 432x288 with 1 Axes>"
      ]
     },
     "metadata": {},
     "output_type": "display_data"
    }
   ],
   "source": [
    "sns.boxplot(x='churn',y='vintage', data= data)\n",
    "plt.show()"
   ]
  },
  {
   "cell_type": "code",
   "execution_count": 72,
   "metadata": {},
   "outputs": [],
   "source": [
    "# As the data is highly overlaed so it difficult to determine usong churn. Butthere are some outliers that should be removed."
   ]
  },
  {
   "cell_type": "code",
   "execution_count": 73,
   "metadata": {},
   "outputs": [],
   "source": [
    "data.drop(data[data[\"vintage\"]>7000].index, axis=0, inplace=True)"
   ]
  },
  {
   "cell_type": "code",
   "execution_count": 74,
   "metadata": {},
   "outputs": [
    {
     "data": {
      "text/plain": [
       "(28253, 26)"
      ]
     },
     "execution_count": 74,
     "metadata": {},
     "output_type": "execute_result"
    }
   ],
   "source": [
    "data.shape"
   ]
  },
  {
   "cell_type": "code",
   "execution_count": 75,
   "metadata": {},
   "outputs": [
    {
     "name": "stderr",
     "output_type": "stream",
     "text": [
      "C:\\Users\\Dell\\Anaconda3\\anaconda\\lib\\site-packages\\seaborn\\axisgrid.py:243: UserWarning: The `size` parameter has been renamed to `height`; please update your code.\n",
      "  warnings.warn(msg, UserWarning)\n"
     ]
    },
    {
     "data": {
      "image/png": "[encoded data removed]",
      "text/plain": [
       "<Figure size 330.375x288 with 1 Axes>"
      ]
     },
     "metadata": {},
     "output_type": "display_data"
    }
   ],
   "source": [
    "sns.FacetGrid(data, hue=\"churn\",size = 4).map(plt.scatter, \"current_month_balance\", \"previous_month_balance\").add_legend() \n",
    "plt.show()"
   ]
  },
  {
   "cell_type": "code",
   "execution_count": 76,
   "metadata": {},
   "outputs": [],
   "source": [
    "data.drop(data[data[\"current_month_balance\"]>5000000].index, axis=0, inplace=True)"
   ]
  },
  {
   "cell_type": "code",
   "execution_count": 77,
   "metadata": {},
   "outputs": [
    {
     "data": {
      "text/plain": [
       "(28253, 26)"
      ]
     },
     "execution_count": 77,
     "metadata": {},
     "output_type": "execute_result"
    }
   ],
   "source": [
    "data.shape"
   ]
  },
  {
   "cell_type": "code",
   "execution_count": 78,
   "metadata": {},
   "outputs": [],
   "source": [
    "# applying .get dummies\n",
    "data = pd.get_dummies(data)"
   ]
  },
  {
   "cell_type": "markdown",
   "metadata": {},
   "source": [
    "# Making a logistic regression model"
   ]
  },
  {
   "cell_type": "code",
   "execution_count": 79,
   "metadata": {},
   "outputs": [],
   "source": [
    "# importing the standard scaler function from skleaar.preprocessing\n",
    "from sklearn.preprocessing import StandardScaler"
   ]
  },
  {
   "cell_type": "code",
   "execution_count": 80,
   "metadata": {},
   "outputs": [],
   "source": [
    "# creating an instance for the standard sclaer function\n",
    "scale = StandardScaler()"
   ]
  },
  {
   "cell_type": "code",
   "execution_count": 82,
   "metadata": {},
   "outputs": [],
   "source": [
    "#fting the data in the scaler instance\n",
    "\n",
    "sc_data = scale.fit(data)"
   ]
  },
  {
   "cell_type": "code",
   "execution_count": 83,
   "metadata": {},
   "outputs": [],
   "source": [
    "#  train valiadtion split\n",
    "x = data.drop(['churn'],axis = 1)\n",
    "y = data['churn']"
   ]
  },
  {
   "cell_type": "code",
   "execution_count": 84,
   "metadata": {},
   "outputs": [],
   "source": [
    "from sklearn.model_selection import train_test_split\n",
    "train_x, valid_x, train_y, valid_y= train_test_split(x, y, test_size = 0.3, random_state=1)"
   ]
  },
  {
   "cell_type": "code",
   "execution_count": 86,
   "metadata": {},
   "outputs": [],
   "source": [
    "from sklearn.linear_model import LogisticRegression\n",
    "from sklearn.metrics import f1_score, auc\n",
    "from sklearn.metrics import roc_auc_score"
   ]
  },
  {
   "cell_type": "code",
   "execution_count": 87,
   "metadata": {},
   "outputs": [
    {
     "data": {
      "text/plain": [
       "LogisticRegression(C=1.0, class_weight=None, dual=False, fit_intercept=True,\n",
       "          intercept_scaling=1, max_iter=100, multi_class='ovr', n_jobs=1,\n",
       "          penalty='l2', random_state=None, solver='liblinear', tol=0.0001,\n",
       "          verbose=0, warm_start=False)"
      ]
     },
     "execution_count": 87,
     "metadata": {},
     "output_type": "execute_result"
    }
   ],
   "source": [
    "# creating aan instance class for logistic regression and fitting the trining data  \n",
    "logreg = LogisticRegression()\n",
    "logreg.fit(train_x, train_y)"
   ]
  },
  {
   "cell_type": "code",
   "execution_count": 88,
   "metadata": {},
   "outputs": [],
   "source": [
    "pred_train = logreg.predict_proba(train_x)\n",
    "pred_valid = logreg.predict_proba(valid_x)"
   ]
  },
  {
   "cell_type": "code",
   "execution_count": 89,
   "metadata": {},
   "outputs": [
    {
     "data": {
      "text/plain": [
       "0.7258928458105176"
      ]
     },
     "execution_count": 89,
     "metadata": {},
     "output_type": "execute_result"
    }
   ],
   "source": [
    "roc_auc_score(train_y, pred_train[:,1])"
   ]
  },
  {
   "cell_type": "code",
   "execution_count": 90,
   "metadata": {},
   "outputs": [
    {
     "data": {
      "text/plain": [
       "0.7141243486572738"
      ]
     },
     "execution_count": 90,
     "metadata": {},
     "output_type": "execute_result"
    }
   ],
   "source": [
    "roc_auc_score(valid_y, pred_valid[:,1])"
   ]
  },
  {
   "cell_type": "code",
   "execution_count": null,
   "metadata": {},
   "outputs": [],
   "source": []
  }
 ],
 "metadata": {
  "kernelspec": {
   "display_name": "Python 3",
   "language": "python",
   "name": "python3"
  },
  "language_info": {
   "codemirror_mode": {
    "name": "ipython",
    "version": 3
   },
   "file_extension": ".py",
   "mimetype": "text/x-python",
   "name": "python",
   "nbconvert_exporter": "python",
   "pygments_lexer": "ipython3",
   "version": "3.6.5"
  }
 },
 "nbformat": 4,
 "nbformat_minor": 2
}
